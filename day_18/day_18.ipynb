{
 "cells": [
  {
   "cell_type": "code",
   "execution_count": 1,
   "id": "d86382c1",
   "metadata": {},
   "outputs": [],
   "source": [
    "from collections import deque"
   ]
  },
  {
   "cell_type": "code",
   "execution_count": 2,
   "id": "89421826",
   "metadata": {},
   "outputs": [],
   "source": [
    "# with open(\"test_input.txt\") as f:\n",
    "with open(\"input.txt\") as f:\n",
    "    lines = f.read().split(\"\\n\")\n",
    "# lines"
   ]
  },
  {
   "cell_type": "code",
   "execution_count": 3,
   "id": "f1c4dc8c",
   "metadata": {
    "scrolled": true
   },
   "outputs": [],
   "source": [
    "coords = [line.split(\",\") for line in lines]\n",
    "coords = [(int(coord[1]), int(coord[0])) for coord in coords]\n",
    "# coords"
   ]
  },
  {
   "cell_type": "code",
   "execution_count": 4,
   "id": "7ffd7abd",
   "metadata": {
    "scrolled": true
   },
   "outputs": [],
   "source": [
    "# rows = cols = 6 + 1\n",
    "rows = cols = 70 + 1\n",
    "grid = [[\".\" for i in range(rows)] for j in range(cols)]\n",
    "# grid"
   ]
  },
  {
   "cell_type": "code",
   "execution_count": null,
   "id": "c97335c6",
   "metadata": {},
   "outputs": [],
   "source": []
  },
  {
   "cell_type": "code",
   "execution_count": 5,
   "id": "6862a284",
   "metadata": {},
   "outputs": [],
   "source": [
    "def bfs_shortest_path(grid, rows, cols):\n",
    "    queue = deque()\n",
    "    queue.append((0, 0, 0))\n",
    "    directions = [(-1, 0), (0, 1), (1, 0), (0, -1)]\n",
    "\n",
    "    visited = {}\n",
    "    while queue:\n",
    "        x, y, steps = queue.popleft()\n",
    "        #         print(x, y, steps)\n",
    "        for direction in directions:\n",
    "            new_x, new_y = x + direction[0], y + direction[1]\n",
    "            new_steps = steps + 1\n",
    "            if 0 <= new_x < rows and 0 <= new_y < rows and grid[new_x][new_y] != \"#\":\n",
    "                #                 print(\"\\t\",new_x, new_y)\n",
    "                if (new_x, new_y) not in visited:\n",
    "                    visited[(new_x, new_y)] = new_steps\n",
    "                    queue.append((new_x, new_y, new_steps))\n",
    "\n",
    "    return visited.get((rows - 1, cols - 1), -1)\n",
    "\n",
    "\n",
    "# bfs_shortest_path(mem_space, rows, cols)"
   ]
  },
  {
   "cell_type": "code",
   "execution_count": 6,
   "id": "1d201c04",
   "metadata": {},
   "outputs": [],
   "source": [
    "mem_space = grid.copy()\n",
    "for coord in coords[:1024]:\n",
    "    x, y = coord\n",
    "    mem_space[x][y] = \"#\"\n",
    "# mem_space"
   ]
  },
  {
   "cell_type": "code",
   "execution_count": 7,
   "id": "7c018bcf",
   "metadata": {},
   "outputs": [
    {
     "data": {
      "text/plain": [
       "262"
      ]
     },
     "execution_count": 7,
     "metadata": {},
     "output_type": "execute_result"
    }
   ],
   "source": [
    "bfs_shortest_path(mem_space, rows, cols)"
   ]
  },
  {
   "cell_type": "code",
   "execution_count": null,
   "id": "8ef822ed",
   "metadata": {},
   "outputs": [],
   "source": []
  },
  {
   "cell_type": "markdown",
   "id": "6ca5a1bb",
   "metadata": {},
   "source": [
    "# Part 2"
   ]
  },
  {
   "cell_type": "code",
   "execution_count": 8,
   "id": "8653f320",
   "metadata": {},
   "outputs": [],
   "source": [
    "# mem_space = [[\".\" for i in range(rows)] for j in range(cols)]\n",
    "# for coord in coords[:-1]:\n",
    "#     x, y = coord\n",
    "#     mem_space[x][y] = \"#\"\n",
    "# mem_space"
   ]
  },
  {
   "cell_type": "code",
   "execution_count": null,
   "id": "f9ba7d8b",
   "metadata": {},
   "outputs": [],
   "source": []
  },
  {
   "cell_type": "code",
   "execution_count": 9,
   "id": "4be1d8e9",
   "metadata": {},
   "outputs": [
    {
     "name": "stdout",
     "output_type": "stream",
     "text": [
      "2974 out of 3450\n",
      "22,20\n",
      "CPU times: total: 24.2 s\n",
      "Wall time: 25.2 s\n"
     ]
    }
   ],
   "source": [
    "%%time\n",
    "mem_space = [[\".\" for i in range(rows)] for j in range(cols)]\n",
    "count = 1\n",
    "for coord in coords:\n",
    "    print(f\"{count} out of {len(coords)}\", end=\"\\r\")\n",
    "    x, y = coord\n",
    "    mem_space[x][y] = \"#\"\n",
    "    shortest_path = bfs_shortest_path(mem_space, rows, cols)\n",
    "    if shortest_path == -1:\n",
    "\n",
    "        print(f\"\\n{y},{x}\")\n",
    "        break\n",
    "\n",
    "    count += 1\n",
    "\n",
    "# mem_space"
   ]
  },
  {
   "cell_type": "code",
   "execution_count": 10,
   "id": "673a5217",
   "metadata": {},
   "outputs": [
    {
     "name": "stdout",
     "output_type": "stream",
     "text": [
      "22,20\n"
     ]
    }
   ],
   "source": [
    "print(f\"{y},{x}\")"
   ]
  },
  {
   "cell_type": "code",
   "execution_count": 11,
   "id": "37b45e3f",
   "metadata": {},
   "outputs": [],
   "source": [
    "# TODO: optimize with binary search to do this is O(Log(n)) time"
   ]
  },
  {
   "cell_type": "code",
   "execution_count": null,
   "id": "9d324ff8",
   "metadata": {},
   "outputs": [],
   "source": []
  }
 ],
 "metadata": {
  "kernelspec": {
   "display_name": "Python 3 (ipykernel)",
   "language": "python",
   "name": "python3"
  },
  "language_info": {
   "codemirror_mode": {
    "name": "ipython",
    "version": 3
   },
   "file_extension": ".py",
   "mimetype": "text/x-python",
   "name": "python",
   "nbconvert_exporter": "python",
   "pygments_lexer": "ipython3",
   "version": "3.10.7"
  }
 },
 "nbformat": 4,
 "nbformat_minor": 5
}
