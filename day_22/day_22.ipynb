{
 "cells": [
  {
   "cell_type": "code",
   "execution_count": null,
   "id": "7e73fc78",
   "metadata": {},
   "outputs": [],
   "source": []
  },
  {
   "cell_type": "code",
   "execution_count": 1,
   "id": "4c2d6b0b",
   "metadata": {},
   "outputs": [],
   "source": [
    "# with open(\"test_input_2.txt\") as f:\n",
    "with open(\"input.txt\") as f:\n",
    "    lines = f.read().split(\"\\n\")\n",
    "# lines"
   ]
  },
  {
   "cell_type": "code",
   "execution_count": 2,
   "id": "a4eec361",
   "metadata": {},
   "outputs": [],
   "source": [
    "secrets = [int(line) for line in lines]\n",
    "# secrets"
   ]
  },
  {
   "cell_type": "code",
   "execution_count": 3,
   "id": "4b3a7968",
   "metadata": {},
   "outputs": [
    {
     "data": {
      "text/plain": [
       "37"
      ]
     },
     "execution_count": 3,
     "metadata": {},
     "output_type": "execute_result"
    }
   ],
   "source": [
    "def mix(secret, mix):\n",
    "    return secret ^ mix\n",
    "\n",
    "\n",
    "mix(42, 15)"
   ]
  },
  {
   "cell_type": "code",
   "execution_count": 4,
   "id": "b1ad9642",
   "metadata": {},
   "outputs": [
    {
     "data": {
      "text/plain": [
       "16113920"
      ]
     },
     "execution_count": 4,
     "metadata": {},
     "output_type": "execute_result"
    }
   ],
   "source": [
    "def prune(secret):\n",
    "    return secret % 16777216\n",
    "\n",
    "\n",
    "prune(100000000)"
   ]
  },
  {
   "cell_type": "code",
   "execution_count": 5,
   "id": "f722dfef",
   "metadata": {},
   "outputs": [],
   "source": [
    "# def get_next_secret(secret):\n",
    "#     secret = mix(secret, secret * 64)\n",
    "#     secret = prune(secret)\n",
    "\n",
    "#     secret = mix(secret, secret // 32)\n",
    "#     secret = prune(secret)\n",
    "\n",
    "#     secret = mix(secret, secret * 2048)\n",
    "#     secret = prune(secret)\n",
    "\n",
    "#     return secret\n",
    "\n",
    "# get_next_secret(123)"
   ]
  },
  {
   "cell_type": "code",
   "execution_count": 6,
   "id": "155706e6",
   "metadata": {},
   "outputs": [
    {
     "data": {
      "text/plain": [
       "15887950"
      ]
     },
     "execution_count": 6,
     "metadata": {},
     "output_type": "execute_result"
    }
   ],
   "source": [
    "def get_next_secret(secret):\n",
    "    secret = mix(secret, secret * 64)\n",
    "    secret = prune(secret)\n",
    "    secret = mix(secret, secret // 32)\n",
    "    secret = prune(secret)\n",
    "    secret = mix(secret, secret * 2048)\n",
    "    secret = prune(secret)\n",
    "\n",
    "    return secret\n",
    "\n",
    "\n",
    "get_next_secret(123)"
   ]
  },
  {
   "cell_type": "code",
   "execution_count": 7,
   "id": "a8c69373",
   "metadata": {},
   "outputs": [
    {
     "name": "stdout",
     "output_type": "stream",
     "text": [
      "15887950\n",
      "16495136\n",
      "527345\n",
      "704524\n",
      "1553684\n",
      "12683156\n",
      "11100544\n",
      "12249484\n",
      "7753432\n",
      "5908254\n"
     ]
    }
   ],
   "source": [
    "secret = 123\n",
    "for i in range(10):\n",
    "    secret = get_next_secret(secret)\n",
    "    print(secret)"
   ]
  },
  {
   "cell_type": "code",
   "execution_count": 8,
   "id": "5bdf85d5",
   "metadata": {
    "scrolled": true
   },
   "outputs": [
    {
     "name": "stdout",
     "output_type": "stream",
     "text": [
      "CPU times: total: 4.92 s\n",
      "Wall time: 5.13 s\n"
     ]
    },
    {
     "data": {
      "text/plain": [
       "13764677935"
      ]
     },
     "execution_count": 8,
     "metadata": {},
     "output_type": "execute_result"
    }
   ],
   "source": [
    "%%time\n",
    "sum_new_secrets = 0\n",
    "for secret in secrets:\n",
    "    new_secret = secret\n",
    "    for i in range(2000):\n",
    "        new_secret = get_next_secret(new_secret)\n",
    "\n",
    "    #     print(f\"{secret}: {new_secret}\")\n",
    "    sum_new_secrets += new_secret\n",
    "\n",
    "sum_new_secrets"
   ]
  },
  {
   "cell_type": "code",
   "execution_count": null,
   "id": "cfdfd4cf",
   "metadata": {},
   "outputs": [],
   "source": []
  },
  {
   "cell_type": "markdown",
   "id": "cd5102da",
   "metadata": {},
   "source": [
    "# part 2"
   ]
  },
  {
   "cell_type": "code",
   "execution_count": null,
   "id": "3605667a",
   "metadata": {},
   "outputs": [],
   "source": []
  },
  {
   "cell_type": "code",
   "execution_count": 9,
   "id": "f8b4731e",
   "metadata": {},
   "outputs": [
    {
     "data": {
      "text/plain": [
       "[(-3, 0), (6, 6), (-1, 5), (-1, 4), (0, 4), (2, 6), (-2, 4), (0, 4), (-2, 2)]"
      ]
     },
     "execution_count": 9,
     "metadata": {},
     "output_type": "execute_result"
    }
   ],
   "source": [
    "def gen_differences_list(secret, num_seq):\n",
    "    bananas_list = []\n",
    "    for i in range(num_seq):\n",
    "        bananas_list.append(secret % 10)\n",
    "        secret = get_next_secret(secret)\n",
    "\n",
    "    bananas_diff_list = []\n",
    "    for i in range(len(bananas_list) - 1):\n",
    "        diff = bananas_list[i + 1] - bananas_list[i]\n",
    "        bananas_diff_list.append((diff, bananas_list[i + 1]))\n",
    "\n",
    "    return bananas_diff_list\n",
    "\n",
    "\n",
    "gen_differences_list(123, 10)"
   ]
  },
  {
   "cell_type": "code",
   "execution_count": 10,
   "id": "bb7d22d6",
   "metadata": {
    "scrolled": true
   },
   "outputs": [],
   "source": [
    "# # diff_sequence = [-2, 1, -1, 3]\n",
    "# diff_sequence = [-9, 7, -6, 7]\n",
    "# sum_bananas = 0\n",
    "# for secret in secrets:\n",
    "#     bananas_diffs = gen_differences_list(secret, 2000)\n",
    "#     for i in range(len(bananas_diffs) - 3):\n",
    "#         if diff_sequence == [diff[0] for diff in bananas_diffs[i : i + 4]]:\n",
    "#             print(secret, bananas_diffs[i + 3][1])\n",
    "#             sum_bananas += bananas_diffs[i + 3][1]\n",
    "\n",
    "# sum_bananas"
   ]
  },
  {
   "cell_type": "code",
   "execution_count": 11,
   "id": "9b665a76",
   "metadata": {},
   "outputs": [
    {
     "name": "stdout",
     "output_type": "stream",
     "text": [
      "CPU times: total: 14.2 s\n",
      "Wall time: 14.4 s\n"
     ]
    }
   ],
   "source": [
    "%%time\n",
    "total_diff_seq = set()\n",
    "secret_diff_seq_dicts = {}\n",
    "# count = 1\n",
    "for secret in secrets:\n",
    "    #     print(f\"{count} out of {len(secrets)}\", end=\"\\r\")\n",
    "    bananas_diffs = gen_differences_list(secret, 2000)\n",
    "    diff_seq_dict = {}\n",
    "    for i in range(len(bananas_diffs) - 3):\n",
    "        diff_seq = tuple(diff[0] for diff in bananas_diffs[i : i + 4])\n",
    "        if diff_seq not in diff_seq_dict:\n",
    "            diff_seq_dict[diff_seq] = bananas_diffs[i + 3][1]\n",
    "\n",
    "    for diff_seq in diff_seq_dict.keys():\n",
    "        total_diff_seq.add(diff_seq)\n",
    "\n",
    "    secret_diff_seq_dicts[secret] = diff_seq_dict\n",
    "\n",
    "#     count += 1"
   ]
  },
  {
   "cell_type": "code",
   "execution_count": 12,
   "id": "b6624874",
   "metadata": {},
   "outputs": [
    {
     "data": {
      "text/plain": [
       "1683"
      ]
     },
     "execution_count": 12,
     "metadata": {},
     "output_type": "execute_result"
    }
   ],
   "source": [
    "len(secret_diff_seq_dicts)"
   ]
  },
  {
   "cell_type": "code",
   "execution_count": 13,
   "id": "7e298bc8",
   "metadata": {},
   "outputs": [
    {
     "data": {
      "text/plain": [
       "40951"
      ]
     },
     "execution_count": 13,
     "metadata": {},
     "output_type": "execute_result"
    }
   ],
   "source": [
    "len(total_diff_seq)"
   ]
  },
  {
   "cell_type": "code",
   "execution_count": 14,
   "id": "308864cd",
   "metadata": {},
   "outputs": [],
   "source": [
    "# %%time\n",
    "# diff_seq = (-9, 7, -6, 7)\n",
    "# sum_bananas = 0\n",
    "# for secret in secrets:\n",
    "#     secret_diff_seq_dict = secret_diff_seq_dicts.get(secret, {})\n",
    "#     sum_bananas += secret_diff_seq_dict.get(diff_seq, 0)"
   ]
  },
  {
   "cell_type": "code",
   "execution_count": 15,
   "id": "4605983e",
   "metadata": {},
   "outputs": [
    {
     "name": "stdout",
     "output_type": "stream",
     "text": [
      "CPU times: total: 40.6 s\n",
      "Wall time: 41.6 s\n"
     ]
    },
    {
     "data": {
      "text/plain": [
       "1619"
      ]
     },
     "execution_count": 15,
     "metadata": {},
     "output_type": "execute_result"
    }
   ],
   "source": [
    "%%time\n",
    "max_bananas = 0\n",
    "count = 1\n",
    "for diff_seq in total_diff_seq:\n",
    "    print(f\"{count} out of {len(total_diff_seq)}\", end=\"\\r\")\n",
    "    sum_bananas = 0\n",
    "    for secret in secrets:\n",
    "        secret_diff_seq_dict = secret_diff_seq_dicts.get(secret, {})\n",
    "        sum_bananas += secret_diff_seq_dict.get(diff_seq, 0)\n",
    "\n",
    "    max_bananas = max(max_bananas, sum_bananas)\n",
    "    count += 1\n",
    "\n",
    "max_bananas"
   ]
  }
 ],
 "metadata": {
  "kernelspec": {
   "display_name": "Python 3 (ipykernel)",
   "language": "python",
   "name": "python3"
  },
  "language_info": {
   "codemirror_mode": {
    "name": "ipython",
    "version": 3
   },
   "file_extension": ".py",
   "mimetype": "text/x-python",
   "name": "python",
   "nbconvert_exporter": "python",
   "pygments_lexer": "ipython3",
   "version": "3.10.7"
  }
 },
 "nbformat": 4,
 "nbformat_minor": 5
}
