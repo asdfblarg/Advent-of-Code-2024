{
 "cells": [
  {
   "cell_type": "code",
   "execution_count": 1,
   "id": "dc36db9e",
   "metadata": {},
   "outputs": [],
   "source": [
    "from itertools import product"
   ]
  },
  {
   "cell_type": "code",
   "execution_count": 2,
   "id": "e147e7c8",
   "metadata": {},
   "outputs": [],
   "source": [
    "# with open(\"test_input.txt\") as f:\n",
    "with open(\"input.txt\") as f:\n",
    "    lines = f.readlines()\n",
    "lines = [line.strip() for line in lines]\n",
    "lines = [line.split(\": \") for line in lines]\n",
    "lines = [(line[0], line[1].split(\" \")) for line in lines]\n",
    "# lines"
   ]
  },
  {
   "cell_type": "code",
   "execution_count": null,
   "id": "fba340ed",
   "metadata": {},
   "outputs": [],
   "source": []
  },
  {
   "cell_type": "code",
   "execution_count": 3,
   "id": "201b74bf",
   "metadata": {
    "scrolled": true
   },
   "outputs": [
    {
     "name": "stdout",
     "output_type": "stream",
     "text": [
      "True\n"
     ]
    }
   ],
   "source": [
    "def calc_possible(line):\n",
    "    res, nums = line\n",
    "    nums = [int(num) for num in nums]\n",
    "    \n",
    "    num_ops = len(nums) - 1\n",
    "\n",
    "    op_combs = []\n",
    "    def backtrack(i, comb):\n",
    "        if len(comb) >= num_ops:\n",
    "            op_combs.append(comb.copy())\n",
    "            return\n",
    "\n",
    "        comb.append(\"*\")\n",
    "        backtrack(i+1, comb)\n",
    "        comb.pop()\n",
    "        \n",
    "        comb.append(\"+\")\n",
    "        backtrack(i+1, comb)\n",
    "        comb.pop()\n",
    "\n",
    "\n",
    "    backtrack(0, [])\n",
    "    \n",
    "\n",
    "    for ops in op_combs:\n",
    "        final_eq = []\n",
    "        for i, num in enumerate(nums):\n",
    "            final_eq.append(num)\n",
    "            final_eq.append(ops[i]) if i < len(ops) else None\n",
    "        \n",
    "        calc = final_eq\n",
    "        while len(calc) != 1:\n",
    "            if calc[1] == \"*\":\n",
    "                op_res = calc[0] * calc[2]\n",
    "            elif calc[1] == \"+\":\n",
    "                op_res = calc[0] + calc[2]\n",
    "            \n",
    "            del calc[:3]\n",
    "            \n",
    "            calc = [op_res] + calc\n",
    "        \n",
    "        if int(res) == calc[0]:\n",
    "            return True\n",
    "        \n",
    "    return False\n",
    "print(calc_possible((\"3267\", ['81', '40', '27'])))\n",
    "# calc_possible(lines[8])"
   ]
  },
  {
   "cell_type": "code",
   "execution_count": 4,
   "id": "2af636a0",
   "metadata": {},
   "outputs": [],
   "source": [
    "# calc_possible(lines[8])"
   ]
  },
  {
   "cell_type": "code",
   "execution_count": null,
   "id": "37b27dd5",
   "metadata": {},
   "outputs": [],
   "source": []
  },
  {
   "cell_type": "code",
   "execution_count": 5,
   "id": "a855f3a3",
   "metadata": {
    "scrolled": true
   },
   "outputs": [
    {
     "name": "stdout",
     "output_type": "stream",
     "text": [
      "CPU times: total: 2.72 s\n",
      "Wall time: 2.78 s\n"
     ]
    }
   ],
   "source": [
    "%%time\n",
    "possibles = []\n",
    "for line in lines:\n",
    "    if calc_possible(line):\n",
    "        possibles.append(line)\n",
    "    \n",
    "# possibles"
   ]
  },
  {
   "cell_type": "code",
   "execution_count": 6,
   "id": "4153dce6",
   "metadata": {},
   "outputs": [
    {
     "data": {
      "text/plain": [
       "20281182715321"
      ]
     },
     "execution_count": 6,
     "metadata": {},
     "output_type": "execute_result"
    }
   ],
   "source": [
    "sum([int(possible[0]) for possible in possibles])"
   ]
  },
  {
   "cell_type": "code",
   "execution_count": null,
   "id": "879a6930",
   "metadata": {},
   "outputs": [],
   "source": []
  },
  {
   "cell_type": "markdown",
   "id": "95870cb3",
   "metadata": {},
   "source": [
    "# part 2"
   ]
  },
  {
   "cell_type": "code",
   "execution_count": 7,
   "id": "a823b15d",
   "metadata": {},
   "outputs": [
    {
     "data": {
      "text/plain": [
       "True"
      ]
     },
     "execution_count": 7,
     "metadata": {},
     "output_type": "execute_result"
    }
   ],
   "source": [
    "def calc_possible_2(line):\n",
    "    res, nums = line\n",
    "    nums = [int(num) for num in nums]\n",
    "    \n",
    "    num_ops = len(nums) - 1\n",
    "    op_combs = []\n",
    "    ops = [\"||\", \"*\", \"+\"]\n",
    "    for op_comb in product(ops, repeat=num_ops):\n",
    "        op_combs.append(op_comb)\n",
    "    \n",
    "    for ops in op_combs:\n",
    "        op_res = nums[0]\n",
    "        for i in range(len(ops)):\n",
    "            op = ops[i]\n",
    "            if op == \"||\":\n",
    "                op_res = int(str(op_res) + str(nums[i+1]))\n",
    "            elif op == \"*\":\n",
    "                op_res *= nums[i+1]\n",
    "            elif op == \"+\":\n",
    "                op_res += nums[i+1]\n",
    "\n",
    "        if int(res) == op_res:\n",
    "            return True\n",
    "        \n",
    "    return False\n",
    "calc_possible_2(lines[4])"
   ]
  },
  {
   "cell_type": "code",
   "execution_count": 8,
   "id": "bbf4ecaf",
   "metadata": {},
   "outputs": [
    {
     "name": "stdout",
     "output_type": "stream",
     "text": [
      "CPU times: total: 1min 18s\n",
      "Wall time: 1min 20s\n"
     ]
    }
   ],
   "source": [
    "%%time\n",
    "possibles_2 = []\n",
    "for line in lines:\n",
    "    if calc_possible_2(line):\n",
    "        possibles_2.append(line)\n",
    "    \n",
    "# possibles_2"
   ]
  },
  {
   "cell_type": "code",
   "execution_count": 9,
   "id": "8bc1236c",
   "metadata": {},
   "outputs": [
    {
     "data": {
      "text/plain": [
       "159490400628354"
      ]
     },
     "execution_count": 9,
     "metadata": {},
     "output_type": "execute_result"
    }
   ],
   "source": [
    "sum([int(possible[0]) for possible in possibles_2])"
   ]
  },
  {
   "cell_type": "code",
   "execution_count": null,
   "id": "2d1ae27d",
   "metadata": {},
   "outputs": [],
   "source": []
  }
 ],
 "metadata": {
  "kernelspec": {
   "display_name": "Python 3 (ipykernel)",
   "language": "python",
   "name": "python3"
  },
  "language_info": {
   "codemirror_mode": {
    "name": "ipython",
    "version": 3
   },
   "file_extension": ".py",
   "mimetype": "text/x-python",
   "name": "python",
   "nbconvert_exporter": "python",
   "pygments_lexer": "ipython3",
   "version": "3.10.7"
  }
 },
 "nbformat": 4,
 "nbformat_minor": 5
}
