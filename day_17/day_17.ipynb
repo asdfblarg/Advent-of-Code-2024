{
 "cells": [
  {
   "cell_type": "code",
   "execution_count": 1,
   "id": "30b2e038",
   "metadata": {},
   "outputs": [
    {
     "data": {
      "text/plain": [
       "['Register A: 24847151\\nRegister B: 0\\nRegister C: 0',\n",
       " 'Program: 2,4,1,5,7,5,1,6,0,3,4,0,5,5,3,0']"
      ]
     },
     "execution_count": 1,
     "metadata": {},
     "output_type": "execute_result"
    }
   ],
   "source": [
    "# with open(\"test_input.txt\") as f:\n",
    "with open(\"input.txt\") as f:\n",
    "    lines = f.read().split(\"\\n\\n\")\n",
    "lines"
   ]
  },
  {
   "cell_type": "code",
   "execution_count": 2,
   "id": "ddfa94ee",
   "metadata": {},
   "outputs": [],
   "source": [
    "register = lines[0].split(\"\\n\")\n",
    "register = {reg.split(\" \")[1].strip(\":\"): int(reg.split(\" \")[2]) for reg in register}\n",
    "# register"
   ]
  },
  {
   "cell_type": "code",
   "execution_count": 3,
   "id": "4086ff37",
   "metadata": {},
   "outputs": [],
   "source": [
    "program = lines[1].split(\" \")[-1].split(\",\")\n",
    "program = [int(instruct) for instruct in program]\n",
    "# program"
   ]
  },
  {
   "cell_type": "code",
   "execution_count": 4,
   "id": "0ffe25a8",
   "metadata": {},
   "outputs": [],
   "source": [
    "def get_combo_operand(combo_operand):\n",
    "    if 0 <= combo_operand <= 3:\n",
    "        value = combo_operand\n",
    "    elif combo_operand == 4:\n",
    "        value = register[\"A\"]\n",
    "    elif combo_operand == 5:\n",
    "        value = register[\"B\"]\n",
    "    elif combo_operand == 6:\n",
    "        value = register[\"C\"]\n",
    "    else:\n",
    "        return -1\n",
    "    return value"
   ]
  },
  {
   "cell_type": "code",
   "execution_count": 5,
   "id": "7185a316",
   "metadata": {},
   "outputs": [],
   "source": [
    "def get_instruction(op_code, operand, pointer):\n",
    "    combo_op = get_combo_operand(operand)\n",
    "    res = None\n",
    "\n",
    "    if op_code == 0:\n",
    "        register[\"A\"] = register[\"A\"] // (2**combo_op)\n",
    "    elif op_code == 1:\n",
    "        register[\"B\"] = register[\"B\"] ^ operand\n",
    "    elif op_code == 2:\n",
    "        register[\"B\"] = combo_op % 8\n",
    "    elif op_code == 3:\n",
    "        if register[\"A\"] != 0:\n",
    "            pointer = operand\n",
    "            return pointer, None\n",
    "    elif op_code == 4:\n",
    "        register[\"B\"] = register[\"B\"] ^ register[\"C\"]\n",
    "    elif op_code == 5:\n",
    "        res = combo_op % 8\n",
    "    #         print(res, end=\",\")\n",
    "    elif op_code == 6:\n",
    "        register[\"B\"] = register[\"A\"] // (2**combo_op)\n",
    "    elif op_code == 7:\n",
    "        register[\"C\"] = register[\"A\"] // (2**combo_op)\n",
    "\n",
    "    return pointer + 2, res"
   ]
  },
  {
   "cell_type": "code",
   "execution_count": null,
   "id": "398b2ede",
   "metadata": {},
   "outputs": [],
   "source": []
  },
  {
   "cell_type": "code",
   "execution_count": null,
   "id": "c8d3eece",
   "metadata": {},
   "outputs": [],
   "source": []
  },
  {
   "cell_type": "code",
   "execution_count": 6,
   "id": "cdd9529e",
   "metadata": {},
   "outputs": [],
   "source": [
    "# register[\"A\"] = 2024\n",
    "# register[\"B\"] = 29\n",
    "# register[\"C\"] = 43690\n",
    "\n",
    "# program = [1, 7]\n",
    "# i = 0\n",
    "# while i < len(program):\n",
    "#     pointer, res = get_instruction(program[i], program[i + 1], i)\n",
    "#     print(pointer, res)\n",
    "#     i = pointer\n",
    "# print()\n",
    "# print(register)"
   ]
  },
  {
   "cell_type": "code",
   "execution_count": 7,
   "id": "70f4d3eb",
   "metadata": {},
   "outputs": [
    {
     "name": "stdout",
     "output_type": "stream",
     "text": [
      "7,3,1,3,6,3,6,0,2\n"
     ]
    }
   ],
   "source": [
    "i = 0\n",
    "ouput = []\n",
    "while i < len(program):\n",
    "    pointer, res = get_instruction(program[i], program[i + 1], i)\n",
    "    if res is not None:\n",
    "        ouput.append(str(res))\n",
    "    i = pointer\n",
    "\n",
    "print(\",\".join(ouput))"
   ]
  },
  {
   "cell_type": "code",
   "execution_count": null,
   "id": "e91806f5",
   "metadata": {},
   "outputs": [],
   "source": []
  },
  {
   "cell_type": "markdown",
   "id": "449faa5e",
   "metadata": {},
   "source": [
    "# part 2"
   ]
  },
  {
   "cell_type": "code",
   "execution_count": 8,
   "id": "812982f7",
   "metadata": {},
   "outputs": [
    {
     "name": "stdout",
     "output_type": "stream",
     "text": [
      "\n",
      "{'A': 0, 'B': 0, 'C': 0}\n"
     ]
    },
    {
     "data": {
      "text/plain": [
       "[0, 3, 5, 4, 3, 0]"
      ]
     },
     "execution_count": 8,
     "metadata": {},
     "output_type": "execute_result"
    }
   ],
   "source": [
    "register[\"A\"] = 117440\n",
    "register[\"B\"] = 0\n",
    "register[\"C\"] = 0\n",
    "\n",
    "program = [0, 3, 5, 4, 3, 0]\n",
    "i = 0\n",
    "output = []\n",
    "while i < len(program):\n",
    "    pointer, res = get_instruction(program[i], program[i + 1], i)\n",
    "    if not res is None:\n",
    "        output.append(res)\n",
    "    i = pointer\n",
    "print()\n",
    "print(register)\n",
    "output"
   ]
  },
  {
   "cell_type": "code",
   "execution_count": null,
   "id": "47f34410",
   "metadata": {},
   "outputs": [],
   "source": []
  },
  {
   "cell_type": "code",
   "execution_count": 9,
   "id": "33a964e1",
   "metadata": {
    "scrolled": true
   },
   "outputs": [
    {
     "name": "stdout",
     "output_type": "stream",
     "text": [
      "{'A': 10, 'B': 0, 'C': 0}\n",
      "2 4 {'A': 10, 'B': 2, 'C': 0} 2 None\n",
      "\n",
      "{'A': 10, 'B': 2, 'C': 0}\n",
      "1 5 {'A': 10, 'B': 7, 'C': 0} 4 None\n",
      "\n",
      "{'A': 10, 'B': 7, 'C': 0}\n",
      "7 5 {'A': 10, 'B': 7, 'C': 0} 6 None\n",
      "\n",
      "{'A': 10, 'B': 7, 'C': 0}\n",
      "1 6 {'A': 10, 'B': 1, 'C': 0} 8 None\n",
      "\n",
      "{'A': 10, 'B': 1, 'C': 0}\n",
      "0 3 {'A': 1, 'B': 1, 'C': 0} 10 None\n",
      "\n",
      "{'A': 1, 'B': 1, 'C': 0}\n",
      "4 0 {'A': 1, 'B': 1, 'C': 0} 12 None\n",
      "\n",
      "{'A': 1, 'B': 1, 'C': 0}\n",
      "5 5 {'A': 1, 'B': 1, 'C': 0} 14 1\n",
      "\n",
      "{'A': 1, 'B': 1, 'C': 0}\n",
      "3 0 {'A': 1, 'B': 1, 'C': 0} 0 None\n",
      "\n",
      "{'A': 1, 'B': 1, 'C': 0}\n",
      "2 4 {'A': 1, 'B': 1, 'C': 0} 2 None\n",
      "\n",
      "{'A': 1, 'B': 1, 'C': 0}\n",
      "1 5 {'A': 1, 'B': 4, 'C': 0} 4 None\n",
      "\n",
      "{'A': 1, 'B': 4, 'C': 0}\n",
      "7 5 {'A': 1, 'B': 4, 'C': 0} 6 None\n",
      "\n",
      "{'A': 1, 'B': 4, 'C': 0}\n",
      "1 6 {'A': 1, 'B': 2, 'C': 0} 8 None\n",
      "\n",
      "{'A': 1, 'B': 2, 'C': 0}\n",
      "0 3 {'A': 0, 'B': 2, 'C': 0} 10 None\n",
      "\n",
      "{'A': 0, 'B': 2, 'C': 0}\n",
      "4 0 {'A': 0, 'B': 2, 'C': 0} 12 None\n",
      "\n",
      "{'A': 0, 'B': 2, 'C': 0}\n",
      "5 5 {'A': 0, 'B': 2, 'C': 0} 14 2\n",
      "\n",
      "{'A': 0, 'B': 2, 'C': 0}\n",
      "3 0 {'A': 0, 'B': 2, 'C': 0} 16 None\n",
      "\n",
      "\n",
      "{'A': 0, 'B': 2, 'C': 0}\n"
     ]
    },
    {
     "data": {
      "text/plain": [
       "[1, 2]"
      ]
     },
     "execution_count": 9,
     "metadata": {},
     "output_type": "execute_result"
    }
   ],
   "source": [
    "register[\"A\"] = 10\n",
    "register[\"B\"] = 0\n",
    "register[\"C\"] = 0\n",
    "\n",
    "program = [2, 4, 1, 5, 7, 5, 1, 6, 0, 3, 4, 0, 5, 5, 3, 0]\n",
    "i = 0\n",
    "output = []\n",
    "while i < len(program):\n",
    "    print(register)\n",
    "    pointer, res = get_instruction(program[i], program[i + 1], i)\n",
    "    print(program[i], program[i + 1], register, pointer, res)\n",
    "    if not res is None:\n",
    "        output.append(res)\n",
    "    i = pointer\n",
    "    print()\n",
    "print()\n",
    "print(register)\n",
    "output"
   ]
  },
  {
   "cell_type": "code",
   "execution_count": null,
   "id": "37afe26f",
   "metadata": {},
   "outputs": [],
   "source": []
  },
  {
   "cell_type": "code",
   "execution_count": 10,
   "id": "c9e94250",
   "metadata": {},
   "outputs": [
    {
     "name": "stdout",
     "output_type": "stream",
     "text": [
      "CPU times: total: 2.53 s\n",
      "Wall time: 2.62 s\n"
     ]
    },
    {
     "data": {
      "text/plain": [
       "117440"
      ]
     },
     "execution_count": 10,
     "metadata": {},
     "output_type": "execute_result"
    }
   ],
   "source": [
    "%%time\n",
    "x = 0\n",
    "while True:\n",
    "    register[\"A\"] = x\n",
    "    register[\"B\"] = 0\n",
    "    register[\"C\"] = 0\n",
    "\n",
    "    program = [0, 3, 5, 4, 3, 0]\n",
    "    i = 0\n",
    "    output = []\n",
    "    while i < len(program):\n",
    "        pointer, res = get_instruction(program[i], program[i + 1], i)\n",
    "        if not res is None:\n",
    "            output.append(res)\n",
    "        i = pointer\n",
    "    if output == program:\n",
    "        break\n",
    "    x += 1\n",
    "#     print(x, end = \"\\r\")\n",
    "x"
   ]
  },
  {
   "cell_type": "code",
   "execution_count": null,
   "id": "a9676656",
   "metadata": {},
   "outputs": [],
   "source": []
  },
  {
   "cell_type": "markdown",
   "id": "799a4001",
   "metadata": {},
   "source": [
    "Register A: 24847151\n",
    "Register B: 0\n",
    "Register C: 0\n",
    "\n",
    "Program: 2,4,1,5,7,5,1,6,0,3,4,0,5,5,3,0"
   ]
  },
  {
   "cell_type": "markdown",
   "id": "dc875dac",
   "metadata": {},
   "source": [
    "```\n",
    "b = a % 8\n",
    "b = b ^ 5\n",
    "c = a // 2^c\n",
    "b = b ^ 6\n",
    "a = a // 2^3\n",
    "b = b ^ c\n",
    "ans = b % 8\n",
    "if (a): cur = 0\n",
    "```"
   ]
  },
  {
   "cell_type": "code",
   "execution_count": 11,
   "id": "c6fc063a",
   "metadata": {
    "scrolled": true
   },
   "outputs": [
    {
     "name": "stdout",
     "output_type": "stream",
     "text": [
      "{'A': 0, 'B': 0, 'C': 0}\n"
     ]
    },
    {
     "data": {
      "text/plain": [
       "[2, 4, 1, 5, 7, 5, 1, 6, 0, 3, 4, 0, 5, 5, 3, 0]"
      ]
     },
     "execution_count": 11,
     "metadata": {},
     "output_type": "execute_result"
    }
   ],
   "source": [
    "register[\"A\"] = 105843716614554\n",
    "register[\"B\"] = 0\n",
    "register[\"C\"] = 0\n",
    "\n",
    "program = [2, 4, 1, 5, 7, 5, 1, 6, 0, 3, 4, 0, 5, 5, 3, 0]\n",
    "i = 0\n",
    "output = []\n",
    "while i < len(program):\n",
    "    #     print(register)\n",
    "    pointer, res = get_instruction(program[i], program[i + 1], i)\n",
    "    #     print(program[i], program[i+1], register, pointer, res)\n",
    "    if not res is None:\n",
    "        output.append(res)\n",
    "    i = pointer\n",
    "#     print()\n",
    "# print()\n",
    "print(register)\n",
    "output"
   ]
  },
  {
   "cell_type": "markdown",
   "id": "a5535758",
   "metadata": {},
   "source": [
    "## answer computed manually\n",
    "### - 105843716614552"
   ]
  },
  {
   "cell_type": "code",
   "execution_count": 12,
   "id": "a091a759",
   "metadata": {
    "scrolled": true
   },
   "outputs": [
    {
     "name": "stdout",
     "output_type": "stream",
     "text": [
      "6308584 [4, 3, 4, 0, 5, 5, 3, 0]\n",
      "6308585 [4, 3, 4, 0, 5, 5, 3, 0]\n",
      "6308586 [4, 3, 4, 0, 5, 5, 3, 0]\n",
      "6308587 [3, 3, 4, 0, 5, 5, 3, 0]\n",
      "6308588 [1, 3, 4, 0, 5, 5, 3, 0]\n",
      "6308589 [3, 3, 4, 0, 5, 5, 3, 0]\n",
      "6308590 [0, 3, 4, 0, 5, 5, 3, 0]\n",
      "6308591 [7, 3, 4, 0, 5, 5, 3, 0]\n"
     ]
    }
   ],
   "source": [
    "for x in range(6308584, 6308584 + 8):\n",
    "    register[\"A\"] = x\n",
    "    register[\"B\"] = 0\n",
    "    register[\"C\"] = 0\n",
    "\n",
    "    program = [2, 4, 1, 5, 7, 5, 1, 6, 0, 3, 4, 0, 5, 5, 3, 0]\n",
    "    i = 0\n",
    "    output = []\n",
    "    while i < len(program):\n",
    "        #     print(register)\n",
    "        pointer, res = get_instruction(program[i], program[i + 1], i)\n",
    "        #     print(program[i], program[i+1], register, pointer, res)\n",
    "        if not res is None:\n",
    "            output.append(res)\n",
    "        i = pointer\n",
    "    #     print()\n",
    "    # print()\n",
    "    #     print(register)\n",
    "    print(x, output)"
   ]
  },
  {
   "cell_type": "code",
   "execution_count": 13,
   "id": "04907f87",
   "metadata": {},
   "outputs": [
    {
     "data": {
      "text/plain": [
       "105843716614552"
      ]
     },
     "execution_count": 13,
     "metadata": {},
     "output_type": "execute_result"
    }
   ],
   "source": [
    "(13230464576819 * 8)"
   ]
  },
  {
   "cell_type": "markdown",
   "id": "417f45cd",
   "metadata": {},
   "source": [
    "```\n",
    "(105843716614552 + 2)\n",
    "(13230464576819 * 8)\n",
    "(1653808072102 * 8)\n",
    "(206726009012 * 8)\n",
    "(25840751126 * 8)\n",
    "(3230093890 * 8)\n",
    "(403761736 * 8)\n",
    "(50470217 * 8)\n",
    "(6308777 * 8)\n",
    "(788573 * 8)\n",
    "(98571 * 8)\n",
    "(12307 * 8)\n",
    "(1538 * 8)\n",
    "(192 * 8)\n",
    "(24 * 8)\n",
    "(3 * 8)\n",
    "```"
   ]
  },
  {
   "cell_type": "markdown",
   "id": "cb8cc817",
   "metadata": {},
   "source": [
    "```\n",
    "0 [3]\n",
    "1 [2]\n",
    "2 [1]\n",
    "3 [0]\n",
    "4 [5]\n",
    "5 [3]\n",
    "6 [5]\n",
    "7 [5]\n",
    "8 [3, 2]\n",
    "```"
   ]
  },
  {
   "cell_type": "code",
   "execution_count": null,
   "id": "11b039b0",
   "metadata": {},
   "outputs": [],
   "source": []
  }
 ],
 "metadata": {
  "kernelspec": {
   "display_name": "Python 3 (ipykernel)",
   "language": "python",
   "name": "python3"
  },
  "language_info": {
   "codemirror_mode": {
    "name": "ipython",
    "version": 3
   },
   "file_extension": ".py",
   "mimetype": "text/x-python",
   "name": "python",
   "nbconvert_exporter": "python",
   "pygments_lexer": "ipython3",
   "version": "3.10.7"
  }
 },
 "nbformat": 4,
 "nbformat_minor": 5
}
