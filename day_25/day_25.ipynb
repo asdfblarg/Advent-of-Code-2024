{
 "cells": [
  {
   "cell_type": "code",
   "execution_count": 1,
   "id": "2f1558b2",
   "metadata": {},
   "outputs": [],
   "source": [
    "# with open(\"test_input.txt\") as f:\n",
    "with open(\"input.txt\") as f:\n",
    "    lines = f.read().split(\"\\n\\n\")\n",
    "# lines"
   ]
  },
  {
   "cell_type": "code",
   "execution_count": 2,
   "id": "09f233e8",
   "metadata": {},
   "outputs": [],
   "source": [
    "schematics = [line.split(\"\\n\") for line in lines]\n",
    "# schematics"
   ]
  },
  {
   "cell_type": "code",
   "execution_count": 3,
   "id": "7a75c0d5",
   "metadata": {},
   "outputs": [],
   "source": [
    "keys = []\n",
    "locks = []\n",
    "for schematic in schematics:\n",
    "    schematic_grid = [list(row) for row in schematic]\n",
    "    if schematic[0].startswith(\"#\"):\n",
    "        locks.append(schematic_grid)\n",
    "    else:\n",
    "        keys.append(schematic_grid)"
   ]
  },
  {
   "cell_type": "code",
   "execution_count": 10,
   "id": "53f89bfb",
   "metadata": {},
   "outputs": [],
   "source": [
    "# locks"
   ]
  },
  {
   "cell_type": "code",
   "execution_count": 11,
   "id": "788ce1d8",
   "metadata": {},
   "outputs": [],
   "source": [
    "lock_heights = []\n",
    "for lock in locks:\n",
    "    rows = len(lock)\n",
    "    cols = len(lock[0])\n",
    "\n",
    "    heights = [-1] * cols\n",
    "    for col in range(cols):\n",
    "        for row in range(rows):\n",
    "            if lock[row][col] == \"#\":\n",
    "                heights[col] += 1\n",
    "    lock_heights.append(heights)\n",
    "# lock_heights"
   ]
  },
  {
   "cell_type": "code",
   "execution_count": 12,
   "id": "125bdf02",
   "metadata": {},
   "outputs": [],
   "source": [
    "key_heights = []\n",
    "for key in keys:\n",
    "    rows = len(key)\n",
    "    cols = len(key[0])\n",
    "\n",
    "    heights = [-1] * cols\n",
    "    for col in range(cols):\n",
    "        for row in range(rows):\n",
    "            if key[row][col] == \"#\":\n",
    "                heights[col] += 1\n",
    "    key_heights.append(heights)\n",
    "# key_heights"
   ]
  },
  {
   "cell_type": "code",
   "execution_count": 7,
   "id": "37a62cdd",
   "metadata": {},
   "outputs": [
    {
     "name": "stdout",
     "output_type": "stream",
     "text": [
      "False\n",
      "True\n"
     ]
    }
   ],
   "source": [
    "def check_pins(lock_height, key_height, height):\n",
    "    cols = len(lock_height)\n",
    "    for i in range(cols):\n",
    "        if lock_height[i] + key_height[i] > height:\n",
    "            return False\n",
    "    return True\n",
    "\n",
    "\n",
    "print(check_pins([0, 5, 3, 4, 3], [5, 0, 2, 1, 3], 5))\n",
    "print(check_pins([0, 5, 3, 4, 3], [3, 0, 2, 0, 1], 5))"
   ]
  },
  {
   "cell_type": "code",
   "execution_count": 8,
   "id": "e4ed525c",
   "metadata": {},
   "outputs": [
    {
     "data": {
      "text/plain": [
       "7"
      ]
     },
     "execution_count": 8,
     "metadata": {},
     "output_type": "execute_result"
    }
   ],
   "source": [
    "len(locks[0])"
   ]
  },
  {
   "cell_type": "code",
   "execution_count": 9,
   "id": "a579caba",
   "metadata": {},
   "outputs": [
    {
     "data": {
      "text/plain": [
       "3439"
      ]
     },
     "execution_count": 9,
     "metadata": {},
     "output_type": "execute_result"
    }
   ],
   "source": [
    "height_check = len(locks[0]) - 2\n",
    "\n",
    "sum_fits = 0\n",
    "for lock_height in lock_heights:\n",
    "    for key_height in key_heights:\n",
    "        pin_check = check_pins(lock_height, key_height, height_check)\n",
    "        if pin_check:\n",
    "            sum_fits += 1\n",
    "\n",
    "sum_fits"
   ]
  },
  {
   "cell_type": "code",
   "execution_count": null,
   "id": "1654c07c",
   "metadata": {},
   "outputs": [],
   "source": []
  }
 ],
 "metadata": {
  "kernelspec": {
   "display_name": "Python 3 (ipykernel)",
   "language": "python",
   "name": "python3"
  },
  "language_info": {
   "codemirror_mode": {
    "name": "ipython",
    "version": 3
   },
   "file_extension": ".py",
   "mimetype": "text/x-python",
   "name": "python",
   "nbconvert_exporter": "python",
   "pygments_lexer": "ipython3",
   "version": "3.10.7"
  }
 },
 "nbformat": 4,
 "nbformat_minor": 5
}
