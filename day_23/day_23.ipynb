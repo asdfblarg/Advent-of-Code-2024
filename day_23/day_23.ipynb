{
 "cells": [
  {
   "cell_type": "code",
   "execution_count": 1,
   "id": "fdd13226",
   "metadata": {},
   "outputs": [],
   "source": [
    "from collections import defaultdict"
   ]
  },
  {
   "cell_type": "code",
   "execution_count": 2,
   "id": "2510f945",
   "metadata": {},
   "outputs": [],
   "source": [
    "# with open(\"test_input.txt\") as f:\n",
    "with open(\"input.txt\") as f:\n",
    "    lines = f.read().split(\"\\n\")\n",
    "# lines"
   ]
  },
  {
   "cell_type": "code",
   "execution_count": 3,
   "id": "d5c49cc0",
   "metadata": {},
   "outputs": [],
   "source": [
    "connections = [line.split(\"-\") for line in lines]\n",
    "# connections"
   ]
  },
  {
   "cell_type": "code",
   "execution_count": 4,
   "id": "1cea171f",
   "metadata": {},
   "outputs": [],
   "source": [
    "graph = defaultdict(set)\n",
    "for connection in connections:\n",
    "    graph[connection[0]].add(connection[1])\n",
    "    graph[connection[1]].add(connection[0])\n",
    "\n",
    "# graph"
   ]
  },
  {
   "cell_type": "code",
   "execution_count": 5,
   "id": "0e87febd",
   "metadata": {},
   "outputs": [],
   "source": [
    "triangles = set()\n",
    "for node1 in graph:\n",
    "    for node2 in graph[node1]:\n",
    "        for node3 in graph[node2]:\n",
    "            if node1 in graph[node2] and node1 in graph[node3]:\n",
    "                triangles.add(tuple(sorted([node1, node2, node3])))\n",
    "# triangles"
   ]
  },
  {
   "cell_type": "code",
   "execution_count": 6,
   "id": "66cd3c71",
   "metadata": {},
   "outputs": [
    {
     "data": {
      "text/plain": [
       "1352"
      ]
     },
     "execution_count": 6,
     "metadata": {},
     "output_type": "execute_result"
    }
   ],
   "source": [
    "sum_t = 0\n",
    "for triangle in triangles:\n",
    "    for node in triangle:\n",
    "        if node[0] == \"t\":\n",
    "            sum_t += 1\n",
    "            break\n",
    "sum_t"
   ]
  },
  {
   "cell_type": "markdown",
   "id": "66b0aaff",
   "metadata": {},
   "source": [
    "# part 2"
   ]
  },
  {
   "cell_type": "markdown",
   "id": "2f21b58a",
   "metadata": {},
   "source": [
    "- Code was taken from elsewhere\n",
    "- I did not have any understanding of graph cliques before this"
   ]
  },
  {
   "cell_type": "code",
   "execution_count": 12,
   "id": "7c8a4fc8",
   "metadata": {},
   "outputs": [
    {
     "name": "stdout",
     "output_type": "stream",
     "text": [
      "dm,do,fr,gf,gh,gy,iq,jb,kt,on,rg,xf,ze\n"
     ]
    }
   ],
   "source": [
    "import networkx as nx\n",
    "\n",
    "# Create graph G\n",
    "G = nx.Graph()\n",
    "G.add_edges_from(connections)\n",
    "\n",
    "# Find all maximal cliques\n",
    "cliques = list(nx.find_cliques(G))\n",
    "\n",
    "# Get largest clique\n",
    "clique_size = {len(clique): clique for clique in cliques}\n",
    "print(\",\".join(sorted(clique_size[max(clique_size.keys())])))"
   ]
  },
  {
   "cell_type": "code",
   "execution_count": 13,
   "id": "67e4448b",
   "metadata": {},
   "outputs": [
    {
     "name": "stdout",
     "output_type": "stream",
     "text": [
      "dm,do,fr,gf,gh,gy,iq,jb,kt,on,rg,xf,ze\n"
     ]
    }
   ],
   "source": [
    "import networkx as nx\n",
    "\n",
    "# Create graph G\n",
    "G = nx.Graph()\n",
    "G.add_edges_from(connections)\n",
    "print(\",\".join(sorted(list(nx.enumerate_all_cliques(G))[-1])))"
   ]
  },
  {
   "cell_type": "code",
   "execution_count": null,
   "id": "da6a6da9",
   "metadata": {},
   "outputs": [],
   "source": []
  }
 ],
 "metadata": {
  "kernelspec": {
   "display_name": "Python 3 (ipykernel)",
   "language": "python",
   "name": "python3"
  },
  "language_info": {
   "codemirror_mode": {
    "name": "ipython",
    "version": 3
   },
   "file_extension": ".py",
   "mimetype": "text/x-python",
   "name": "python",
   "nbconvert_exporter": "python",
   "pygments_lexer": "ipython3",
   "version": "3.10.7"
  }
 },
 "nbformat": 4,
 "nbformat_minor": 5
}
