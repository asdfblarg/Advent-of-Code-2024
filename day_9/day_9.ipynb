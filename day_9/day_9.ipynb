{
 "cells": [
  {
   "cell_type": "code",
   "execution_count": 1,
   "id": "aa6eefb0",
   "metadata": {},
   "outputs": [],
   "source": [
    "# with open(\"test_input.txt\") as f:\n",
    "with open(\"input.txt\") as f:\n",
    "    lines = f.readlines()\n",
    "lines = [line.strip() for line in lines]\n",
    "# lines"
   ]
  },
  {
   "cell_type": "code",
   "execution_count": 2,
   "id": "293272d8",
   "metadata": {},
   "outputs": [],
   "source": [
    "disk_map = lines[0]\n",
    "# disk_map"
   ]
  },
  {
   "cell_type": "code",
   "execution_count": 3,
   "id": "3bb3cfb1",
   "metadata": {
    "scrolled": true
   },
   "outputs": [],
   "source": [
    "def split_into_ids(disk_map):\n",
    "    id_space_map = []\n",
    "    block_id = 0\n",
    "    for i in range(len(disk_map)):\n",
    "        # odd digits are files\n",
    "        num_bytes = int(disk_map[i])\n",
    "        if i % 2 == 0:\n",
    "            for j in range(num_bytes):\n",
    "                id_space_map.append(str(block_id))\n",
    "            block_id += 1\n",
    "        # even digits are free blocks\n",
    "        else:\n",
    "            for j in range(num_bytes):\n",
    "                id_space_map.append(\".\")\n",
    "\n",
    "    return id_space_map\n",
    "\n",
    "# \"\".join(split_into_ids(disk_map))"
   ]
  },
  {
   "cell_type": "code",
   "execution_count": 4,
   "id": "d38461be",
   "metadata": {
    "scrolled": true
   },
   "outputs": [],
   "source": [
    "# disk_map_expand = split_into_ids(disk_map)"
   ]
  },
  {
   "cell_type": "code",
   "execution_count": 5,
   "id": "bcb6cf4d",
   "metadata": {},
   "outputs": [],
   "source": [
    "disk_map_expand = split_into_ids(disk_map)\n",
    "left = 0\n",
    "right = len(disk_map_expand) - 1\n",
    "\n",
    "while left < right:\n",
    "    while disk_map_expand[left] != \".\":\n",
    "        left += 1\n",
    "    while disk_map_expand[right] == \".\":\n",
    "        right -= 1\n",
    "\n",
    "    if left < right:\n",
    "        disk_map_expand[left], disk_map_expand[right] = disk_map_expand[right], disk_map_expand[left]\n",
    "    \n",
    "# \"\".join(disk_map_expand)"
   ]
  },
  {
   "cell_type": "code",
   "execution_count": 6,
   "id": "e71b6e3e",
   "metadata": {},
   "outputs": [
    {
     "data": {
      "text/plain": [
       "6353658451014"
      ]
     },
     "execution_count": 6,
     "metadata": {},
     "output_type": "execute_result"
    }
   ],
   "source": [
    "checksum = 0\n",
    "for i in range(len(disk_map_expand)):\n",
    "    if disk_map_expand[i] == \".\":\n",
    "        continue\n",
    "    checksum += i * int(disk_map_expand[i])\n",
    "checksum"
   ]
  },
  {
   "cell_type": "code",
   "execution_count": null,
   "id": "8a9af671",
   "metadata": {},
   "outputs": [],
   "source": []
  },
  {
   "cell_type": "markdown",
   "id": "bbec0f1f",
   "metadata": {},
   "source": [
    "# part 2"
   ]
  },
  {
   "cell_type": "code",
   "execution_count": 7,
   "id": "681e84b3",
   "metadata": {},
   "outputs": [],
   "source": [
    "disk_map_expand = split_into_ids(disk_map)\n",
    "# \"\".join(disk_map_expand)"
   ]
  },
  {
   "cell_type": "code",
   "execution_count": 8,
   "id": "fdde9d2c",
   "metadata": {
    "scrolled": true
   },
   "outputs": [],
   "source": [
    "def get_next_free_block(disk_map, left_index, right):\n",
    "    block_size = 0\n",
    "    while disk_map[left_index] != \".\" and left_index < right:\n",
    "        left_index += 1\n",
    "\n",
    "    if left_index >= right:\n",
    "        return -1, -1\n",
    "\n",
    "    start_index = left_index\n",
    "    while disk_map[left_index] == \".\":\n",
    "        block_size += 1\n",
    "        left_index += 1\n",
    "        \n",
    "    return start_index, block_size\n",
    "\n",
    "# get_next_free_block(disk_map_expand, 0, len(disk_map_expand)-1)"
   ]
  },
  {
   "cell_type": "code",
   "execution_count": 9,
   "id": "02ae163c",
   "metadata": {},
   "outputs": [],
   "source": [
    "disk_map_expand_2 = split_into_ids(disk_map)\n",
    "file_ids_map = {}\n",
    "file_ids_size_map = {}\n",
    "\n",
    "i = 0\n",
    "cur_id = \"0\"\n",
    "cur_count = 0\n",
    "cur_start = 0\n",
    "while i < len(disk_map_expand_2):\n",
    "    if disk_map_expand_2[i] != \".\":\n",
    "        if int(disk_map_expand_2[i]) not in file_ids_map:\n",
    "            file_ids_map[int(disk_map_expand_2[i])] = i\n",
    "            file_ids_size_map[int(disk_map_expand_2[i])] = 1\n",
    "        else:\n",
    "            file_ids_size_map[int(disk_map_expand_2[i])] += 1\n",
    "    i += 1\n",
    "    \n",
    "# file_ids_map"
   ]
  },
  {
   "cell_type": "code",
   "execution_count": 10,
   "id": "83745667",
   "metadata": {
    "scrolled": true
   },
   "outputs": [
    {
     "name": "stdout",
     "output_type": "stream",
     "text": [
      "CPU times: total: 32.9 s\n",
      "Wall time: 33.6 s\n"
     ]
    }
   ],
   "source": [
    "%%time\n",
    "disk_map_expand_2\n",
    "\n",
    "for file_id in range(len(file_ids_map) - 1, -1, -1):\n",
    "    file_id_index = file_ids_map[file_id]\n",
    "    file_id_size = file_ids_size_map[file_id]\n",
    "\n",
    "    free_index, free_blocks = get_next_free_block(disk_map_expand_2, 0, file_id_index)\n",
    "    if free_index != -1:\n",
    "        while free_blocks < file_id_size:\n",
    "            free_index, free_blocks = get_next_free_block(\n",
    "                disk_map_expand_2, free_index + free_blocks, file_id_index\n",
    "            )\n",
    "            if free_index == -1:\n",
    "                break\n",
    "                \n",
    "    if free_index == -1:\n",
    "        continue\n",
    "\n",
    "    for i in range(file_id_size):\n",
    "        disk_map_expand_2[free_index + i] = str(file_id)\n",
    "        disk_map_expand_2[file_id_index + i] = \".\"\n",
    "\n",
    "# print(\"\".join(disk_map_expand_2))"
   ]
  },
  {
   "cell_type": "code",
   "execution_count": 11,
   "id": "e0649e4a",
   "metadata": {},
   "outputs": [
    {
     "data": {
      "text/plain": [
       "6382582136592"
      ]
     },
     "execution_count": 11,
     "metadata": {},
     "output_type": "execute_result"
    }
   ],
   "source": [
    "checksum = 0\n",
    "for i in range(len(disk_map_expand_2)):\n",
    "    if disk_map_expand_2[i] == \".\":\n",
    "        continue\n",
    "    checksum += i * int(disk_map_expand_2[i])\n",
    "checksum"
   ]
  },
  {
   "cell_type": "code",
   "execution_count": null,
   "id": "269800d1",
   "metadata": {},
   "outputs": [],
   "source": []
  },
  {
   "cell_type": "code",
   "execution_count": null,
   "id": "5e513d49",
   "metadata": {},
   "outputs": [],
   "source": []
  }
 ],
 "metadata": {
  "kernelspec": {
   "display_name": "Python 3 (ipykernel)",
   "language": "python",
   "name": "python3"
  },
  "language_info": {
   "codemirror_mode": {
    "name": "ipython",
    "version": 3
   },
   "file_extension": ".py",
   "mimetype": "text/x-python",
   "name": "python",
   "nbconvert_exporter": "python",
   "pygments_lexer": "ipython3",
   "version": "3.10.7"
  }
 },
 "nbformat": 4,
 "nbformat_minor": 5
}
