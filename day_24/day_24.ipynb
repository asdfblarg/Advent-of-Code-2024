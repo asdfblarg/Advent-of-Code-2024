{
 "cells": [
  {
   "cell_type": "code",
   "execution_count": 1,
   "id": "44d21fc9",
   "metadata": {},
   "outputs": [],
   "source": [
    "from collections import deque"
   ]
  },
  {
   "cell_type": "code",
   "execution_count": 2,
   "id": "384ca040",
   "metadata": {},
   "outputs": [],
   "source": [
    "# with open(\"test_input_2.txt\") as f:\n",
    "# with open(\"test_input.txt\") as f:\n",
    "with open(\"input.txt\") as f:\n",
    "    lines = f.read().split(\"\\n\\n\")\n",
    "# lines"
   ]
  },
  {
   "cell_type": "code",
   "execution_count": 3,
   "id": "77cebe9a",
   "metadata": {},
   "outputs": [],
   "source": [
    "inputs = [line.split(\": \") for line in lines[0].split(\"\\n\")]\n",
    "inputs = [[wire[0], int(wire[1])] for wire in inputs]\n",
    "# inputs"
   ]
  },
  {
   "cell_type": "code",
   "execution_count": 4,
   "id": "8a82d8ac",
   "metadata": {},
   "outputs": [],
   "source": [
    "wires = [line.split(\" \") for line in lines[1].split(\"\\n\")]\n",
    "# wires"
   ]
  },
  {
   "cell_type": "code",
   "execution_count": 5,
   "id": "5d55b8d6",
   "metadata": {
    "scrolled": true
   },
   "outputs": [],
   "source": [
    "wires_dict = {}\n",
    "for wire in inputs:\n",
    "    wires_dict[wire[0]] = wire[1]\n",
    "# wires_dict"
   ]
  },
  {
   "cell_type": "code",
   "execution_count": 6,
   "id": "b09f75f7",
   "metadata": {
    "scrolled": true
   },
   "outputs": [],
   "source": [
    "z_wires = set()\n",
    "queue = deque(wires)\n",
    "while queue: \n",
    "    wire = queue.popleft()\n",
    "    \n",
    "    if wire[0] not in wires_dict:\n",
    "        queue.append(wire)\n",
    "        continue\n",
    "    if wire[2] not in wires_dict:\n",
    "        queue.append(wire)\n",
    "        continue\n",
    "        \n",
    "    if wire[1] == \"AND\":\n",
    "        wires_dict[wire[4]] = wires_dict[wire[0]] & wires_dict[wire[2]]\n",
    "    elif wire[1] == \"OR\":\n",
    "        wires_dict[wire[4]] = wires_dict[wire[0]] | wires_dict[wire[2]]\n",
    "    elif wire[1] == \"XOR\":\n",
    "        wires_dict[wire[4]] = wires_dict[wire[0]] ^ wires_dict[wire[2]] \n",
    "        \n",
    "    if wire[4].startswith(\"z\"):\n",
    "        z_wires.add(wire[4])\n",
    "        \n",
    "# wires_dict"
   ]
  },
  {
   "cell_type": "code",
   "execution_count": 7,
   "id": "7792b669",
   "metadata": {
    "scrolled": true
   },
   "outputs": [],
   "source": [
    "z_value = []\n",
    "for z_wire in z_wires:\n",
    "    z_value.append((z_wire, wires_dict[z_wire]))\n",
    "# z_value"
   ]
  },
  {
   "cell_type": "code",
   "execution_count": 8,
   "id": "46093329",
   "metadata": {
    "scrolled": true
   },
   "outputs": [],
   "source": [
    "z_value.sort(reverse=True)\n",
    "# z_value"
   ]
  },
  {
   "cell_type": "code",
   "execution_count": 9,
   "id": "6444bf1e",
   "metadata": {},
   "outputs": [
    {
     "data": {
      "text/plain": [
       "56620966442854"
      ]
     },
     "execution_count": 9,
     "metadata": {},
     "output_type": "execute_result"
    }
   ],
   "source": [
    "bits = [str(val[1]) for val in z_value]\n",
    "z = \"\".join(bits)\n",
    "int(z, 2)"
   ]
  },
  {
   "cell_type": "code",
   "execution_count": null,
   "id": "cdf1bd6a",
   "metadata": {},
   "outputs": [],
   "source": []
  },
  {
   "cell_type": "markdown",
   "id": "9a8ef057",
   "metadata": {},
   "source": [
    "# part 2"
   ]
  },
  {
   "cell_type": "code",
   "execution_count": 10,
   "id": "6e459f36",
   "metadata": {
    "scrolled": true
   },
   "outputs": [],
   "source": [
    "x_wires = []\n",
    "y_wires = []\n",
    "z_wires = []\n",
    "for key in wires_dict.keys():\n",
    "    if key.startswith(\"x\"):\n",
    "        x_wires.append(key)\n",
    "    elif key.startswith(\"y\"):\n",
    "        y_wires.append(key)\n",
    "    elif key.startswith(\"z\"):\n",
    "        z_wires.append(key)\n",
    "        \n",
    "x_wires.sort(reverse=True)\n",
    "y_wires.sort(reverse=True)\n",
    "z_wires.sort(reverse=True)"
   ]
  },
  {
   "cell_type": "code",
   "execution_count": 11,
   "id": "44c0f6ed",
   "metadata": {},
   "outputs": [
    {
     "data": {
      "text/plain": [
       "(45, 45, 46)"
      ]
     },
     "execution_count": 11,
     "metadata": {},
     "output_type": "execute_result"
    }
   ],
   "source": [
    "len(x_wires), len(y_wires), len(z_wires)"
   ]
  },
  {
   "cell_type": "code",
   "execution_count": 36,
   "id": "bf7b51bd",
   "metadata": {
    "scrolled": true
   },
   "outputs": [
    {
     "name": "stdout",
     "output_type": "stream",
     "text": [
      "\t\t-> z45 1\n",
      "x44 1 AND y44 1 -> z44 1\n",
      "x43 0 AND y43 1 -> z43 0\n",
      "x42 1 AND y42 0 -> z42 0\n",
      "x41 1 AND y41 1 -> z41 1\n",
      "x40 1 AND y40 1 -> z40 1\n",
      "x39 1 AND y39 1 -> z39 0\n",
      "x38 0 AND y38 1 -> z38 1\n",
      "x37 1 AND y37 0 -> z37 1\n",
      "x36 0 AND y36 1 -> z36 1\n",
      "x35 0 AND y35 1 -> z35 1\n",
      "x34 1 AND y34 1 -> z34 1\n",
      "x33 1 AND y33 0 -> z33 1\n",
      "x32 0 AND y32 0 -> z32 1\n",
      "x31 1 AND y31 0 -> z31 0\n",
      "x30 0 AND y30 1 -> z30 0\n",
      "x29 0 AND y29 1 -> z29 0\n",
      "x28 1 AND y28 1 -> z28 1\n",
      "x27 1 AND y27 1 -> z27 1\n",
      "x26 1 AND y26 0 -> z26 0\n",
      "x25 1 AND y25 0 -> z25 0\n",
      "x24 0 AND y24 1 -> z24 0\n",
      "x23 1 AND y23 1 -> z23 1\n",
      "x22 0 AND y22 1 -> z22 0\n",
      "x21 1 AND y21 1 -> z21 0\n",
      "x20 0 AND y20 0 -> z20 1\n",
      "x19 1 AND y19 0 -> z19 0\n",
      "x18 1 AND y18 1 -> z18 1\n",
      "x17 1 AND y17 1 -> z17 1\n",
      "x16 1 AND y16 1 -> z16 1\n",
      "x15 1 AND y15 1 -> z15 0\n",
      "x14 1 AND y14 0 -> z14 1\n",
      "x13 0 AND y13 1 -> z13 1\n",
      "x12 1 AND y12 0 -> z12 1\n",
      "x11 1 AND y11 1 -> z11 0\n",
      "x10 1 AND y10 0 -> z10 1\n",
      "x09 1 AND y09 0 -> z09 1\n",
      "x08 0 AND y08 0 -> z08 1\n",
      "x07 1 AND y07 0 -> z07 0\n",
      "x06 1 AND y06 0 -> z06 1\n",
      "x05 0 AND y05 0 -> z05 1\n",
      "x04 0 AND y04 1 -> z04 0\n",
      "x03 1 AND y03 1 -> z03 0\n",
      "x02 1 AND y02 0 -> z02 1\n",
      "x01 0 AND y01 0 -> z01 1\n",
      "x00 1 AND y00 1 -> z00 0\n"
     ]
    }
   ],
   "source": [
    "print(f\"\\t\\t-> {z_wires[0]} {wires_dict[z_wires[0]]}\")\n",
    "for i in range(len(x_wires)):\n",
    "    print(f\"{x_wires[i]} {wires_dict[x_wires[i]]} AND {y_wires[i]} {wires_dict[y_wires[i]]} -> {z_wires[i+1]} {wires_dict[z_wires[i+1]]}\")"
   ]
  },
  {
   "cell_type": "code",
   "execution_count": 13,
   "id": "cef83879",
   "metadata": {
    "scrolled": true
   },
   "outputs": [
    {
     "data": {
      "text/plain": [
       "26004394335949"
      ]
     },
     "execution_count": 13,
     "metadata": {},
     "output_type": "execute_result"
    }
   ],
   "source": [
    "x_bits = [str(wires_dict[val]) for val in x_wires]\n",
    "x = \"\".join(x_bits)\n",
    "int(x, 2)"
   ]
  },
  {
   "cell_type": "code",
   "execution_count": 14,
   "id": "71c63f86",
   "metadata": {},
   "outputs": [
    {
     "data": {
      "text/plain": [
       "30633751980057"
      ]
     },
     "execution_count": 14,
     "metadata": {},
     "output_type": "execute_result"
    }
   ],
   "source": [
    "y_bits = [str(wires_dict[val]) for val in y_wires]\n",
    "y = \"\".join(y_bits)\n",
    "int(y, 2)"
   ]
  },
  {
   "cell_type": "code",
   "execution_count": 22,
   "id": "4f063110",
   "metadata": {},
   "outputs": [
    {
     "data": {
      "text/plain": [
       "56638146316006"
      ]
     },
     "execution_count": 22,
     "metadata": {},
     "output_type": "execute_result"
    }
   ],
   "source": [
    "26004394335949+30633751980057"
   ]
  },
  {
   "cell_type": "code",
   "execution_count": 17,
   "id": "d8f680bf",
   "metadata": {},
   "outputs": [
    {
     "data": {
      "text/plain": [
       "56620966442854"
      ]
     },
     "execution_count": 17,
     "metadata": {},
     "output_type": "execute_result"
    }
   ],
   "source": [
    "z_bits = [str(val[1]) for val in z_value]\n",
    "z = \"\".join(z_bits)\n",
    "int(z, 2)"
   ]
  },
  {
   "cell_type": "code",
   "execution_count": 28,
   "id": "ca21292b",
   "metadata": {
    "scrolled": true
   },
   "outputs": [
    {
     "data": {
      "text/plain": [
       "'1100111000001100011000100101111000011011100110'"
      ]
     },
     "execution_count": 28,
     "metadata": {},
     "output_type": "execute_result"
    }
   ],
   "source": [
    "correct_z_bits = \"\".join(list(bin(56638146316006)[2:]))\n",
    "correct_z_bits"
   ]
  },
  {
   "cell_type": "code",
   "execution_count": 29,
   "id": "bf04a270",
   "metadata": {},
   "outputs": [
    {
     "data": {
      "text/plain": [
       "'1100110111111100011000100101110111011101100110'"
      ]
     },
     "execution_count": 29,
     "metadata": {},
     "output_type": "execute_result"
    }
   ],
   "source": [
    "incorrect_z_bits = \"\".join(list(bin(56620966442854)[2:]))\n",
    "incorrect_z_bits"
   ]
  },
  {
   "cell_type": "markdown",
   "id": "04b3c0cc",
   "metadata": {},
   "source": [
    "1100111000001100011000100101111000011011100110\n",
    "1100110111111100011000100101110111011101100110"
   ]
  },
  {
   "cell_type": "code",
   "execution_count": 26,
   "id": "d6e78d98",
   "metadata": {},
   "outputs": [
    {
     "data": {
      "text/plain": [
       "46"
      ]
     },
     "execution_count": 26,
     "metadata": {},
     "output_type": "execute_result"
    }
   ],
   "source": [
    "len(\"\".join(list(bin(56638146316006)[2:])))"
   ]
  },
  {
   "cell_type": "code",
   "execution_count": 41,
   "id": "800289a5",
   "metadata": {},
   "outputs": [
    {
     "name": "stdout",
     "output_type": "stream",
     "text": [
      "6 z39 1 0\n",
      "7 z38 0 1\n",
      "8 z37 0 1\n",
      "9 z36 0 1\n",
      "10 z35 0 1\n",
      "11 z34 0 1\n",
      "30 z15 1 0\n",
      "31 z14 0 1\n",
      "32 z13 0 1\n",
      "33 z12 0 1\n",
      "37 z08 0 1\n",
      "38 z07 1 0\n"
     ]
    }
   ],
   "source": [
    "for i in range(46):\n",
    "    if correct_z_bits[i] != incorrect_z_bits[i]:\n",
    "        print(i, f\"z{str(45-i).zfill(2)}\", correct_z_bits[i], incorrect_z_bits[i])"
   ]
  },
  {
   "cell_type": "code",
   "execution_count": null,
   "id": "1d88670b",
   "metadata": {},
   "outputs": [],
   "source": []
  },
  {
   "cell_type": "code",
   "execution_count": null,
   "id": "bd507698",
   "metadata": {},
   "outputs": [],
   "source": []
  },
  {
   "cell_type": "code",
   "execution_count": null,
   "id": "d0c2be4c",
   "metadata": {},
   "outputs": [],
   "source": []
  }
 ],
 "metadata": {
  "kernelspec": {
   "display_name": "Python 3 (ipykernel)",
   "language": "python",
   "name": "python3"
  },
  "language_info": {
   "codemirror_mode": {
    "name": "ipython",
    "version": 3
   },
   "file_extension": ".py",
   "mimetype": "text/x-python",
   "name": "python",
   "nbconvert_exporter": "python",
   "pygments_lexer": "ipython3",
   "version": "3.10.7"
  }
 },
 "nbformat": 4,
 "nbformat_minor": 5
}
