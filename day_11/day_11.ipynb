{
 "cells": [
  {
   "cell_type": "code",
   "execution_count": 1,
   "id": "f7237112",
   "metadata": {},
   "outputs": [],
   "source": [
    "from collections import Counter"
   ]
  },
  {
   "cell_type": "code",
   "execution_count": 2,
   "id": "2c1d546c",
   "metadata": {},
   "outputs": [],
   "source": [
    "# with open(\"test_input.txt\") as f:\n",
    "with open(\"input.txt\") as f:\n",
    "    lines = f.readlines()\n",
    "lines = [line.strip() for line in lines]"
   ]
  },
  {
   "cell_type": "code",
   "execution_count": 3,
   "id": "7cea8f9b",
   "metadata": {},
   "outputs": [
    {
     "data": {
      "text/plain": [
       "[8069, 87014, 98, 809367, 525, 0, 9494914, 5]"
      ]
     },
     "execution_count": 3,
     "metadata": {},
     "output_type": "execute_result"
    }
   ],
   "source": [
    "stones = lines[0].split(\" \")\n",
    "stones = [int(stone) for stone in stones]\n",
    "stones"
   ]
  },
  {
   "cell_type": "code",
   "execution_count": 4,
   "id": "ef0a13b7",
   "metadata": {},
   "outputs": [],
   "source": [
    "def stone_blink(stones):\n",
    "    new_stones = []\n",
    "    for stone in stones:\n",
    "        if stone == 0:\n",
    "            new_stones.append(1)\n",
    "        elif len(str(stone)) % 2 == 0:\n",
    "            stone_str = str(stone)\n",
    "            stone_digit_len = len(stone_str)\n",
    "            new_stones.append(int(stone_str[:stone_digit_len//2]))\n",
    "            new_stones.append(int(stone_str[stone_digit_len//2:]))\n",
    "        else:\n",
    "            new_stones.append(stone * 2024)\n",
    "            \n",
    "    return new_stones\n",
    "# stone_blink(stones)"
   ]
  },
  {
   "cell_type": "code",
   "execution_count": 5,
   "id": "09063f2d",
   "metadata": {},
   "outputs": [],
   "source": [
    "# new_stones = stone_blink(stones)\n",
    "# new_stones"
   ]
  },
  {
   "cell_type": "code",
   "execution_count": 6,
   "id": "ab422ea3",
   "metadata": {},
   "outputs": [],
   "source": [
    "# new_stones = stones.copy()\n",
    "# for i in range(6):\n",
    "#     print(new_stones)\n",
    "#     new_stones = stone_blink(new_stones)\n",
    "# print(new_stones)"
   ]
  },
  {
   "cell_type": "code",
   "execution_count": 7,
   "id": "b0f03379",
   "metadata": {},
   "outputs": [
    {
     "name": "stdout",
     "output_type": "stream",
     "text": [
      "11\n",
      "13\n",
      "19\n",
      "29\n",
      "45\n",
      "72\n",
      "105\n",
      "152\n",
      "227\n",
      "353\n",
      "538\n",
      "818\n",
      "1219\n",
      "1791\n",
      "2862\n",
      "4337\n",
      "6444\n",
      "9820\n",
      "14785\n",
      "22897\n",
      "34564\n",
      "51981\n",
      "79929\n",
      "120193\n",
      "183484\n",
      "CPU times: total: 375 ms\n",
      "Wall time: 390 ms\n"
     ]
    }
   ],
   "source": [
    "%%time\n",
    "new_stones = stones.copy()\n",
    "for i in range(25):\n",
    "    new_stones = stone_blink(new_stones)\n",
    "    print(len(new_stones))"
   ]
  },
  {
   "cell_type": "code",
   "execution_count": 8,
   "id": "337788d4",
   "metadata": {},
   "outputs": [
    {
     "data": {
      "text/plain": [
       "183484"
      ]
     },
     "execution_count": 8,
     "metadata": {},
     "output_type": "execute_result"
    }
   ],
   "source": [
    "len(new_stones)"
   ]
  },
  {
   "cell_type": "code",
   "execution_count": null,
   "id": "571c9ae3",
   "metadata": {},
   "outputs": [],
   "source": []
  },
  {
   "cell_type": "markdown",
   "id": "3a826742",
   "metadata": {},
   "source": [
    "# part 2"
   ]
  },
  {
   "cell_type": "code",
   "execution_count": 9,
   "id": "d70ba792",
   "metadata": {},
   "outputs": [],
   "source": [
    "# %%time\n",
    "# new_stones = stones.copy()\n",
    "# for i in range(75):\n",
    "#     new_stones = stone_blink(new_stones)\n",
    "# print(new_stones)"
   ]
  },
  {
   "cell_type": "code",
   "execution_count": 10,
   "id": "4e99efb3",
   "metadata": {},
   "outputs": [],
   "source": [
    "def stone_blink_2(stones_counter):\n",
    "    new_stones = Counter()\n",
    "    for stone in stones_counter:\n",
    "        if stone == 0:\n",
    "            new_stones[1] += stones_counter[stone]\n",
    "        elif len(str(stone)) % 2 == 0:\n",
    "            stone_str = str(stone)\n",
    "            stone_digit_len = len(stone_str)\n",
    "            new_stones[int(stone_str[:stone_digit_len//2])] += stones_counter[stone]\n",
    "            new_stones[int(stone_str[stone_digit_len//2:])] += stones_counter[stone]\n",
    "        else:\n",
    "            new_stones[stone * 2024] += stones_counter[stone]\n",
    "            \n",
    "    return new_stones\n",
    "# stone_blink(stones)"
   ]
  },
  {
   "cell_type": "code",
   "execution_count": null,
   "id": "8b228bab",
   "metadata": {},
   "outputs": [],
   "source": []
  },
  {
   "cell_type": "code",
   "execution_count": 11,
   "id": "8368d5e0",
   "metadata": {
    "scrolled": true
   },
   "outputs": [
    {
     "name": "stdout",
     "output_type": "stream",
     "text": [
      "218817038947400\n",
      "CPU times: total: 266 ms\n",
      "Wall time: 261 ms\n"
     ]
    }
   ],
   "source": [
    "%%time\n",
    "new_stones = Counter(stones)\n",
    "for i in range(75):\n",
    "    new_stones = stone_blink_2(new_stones)\n",
    "print(sum(new_stones.values()))"
   ]
  },
  {
   "cell_type": "code",
   "execution_count": null,
   "id": "3dcee34d",
   "metadata": {},
   "outputs": [],
   "source": []
  }
 ],
 "metadata": {
  "kernelspec": {
   "display_name": "Python 3 (ipykernel)",
   "language": "python",
   "name": "python3"
  },
  "language_info": {
   "codemirror_mode": {
    "name": "ipython",
    "version": 3
   },
   "file_extension": ".py",
   "mimetype": "text/x-python",
   "name": "python",
   "nbconvert_exporter": "python",
   "pygments_lexer": "ipython3",
   "version": "3.10.7"
  }
 },
 "nbformat": 4,
 "nbformat_minor": 5
}
