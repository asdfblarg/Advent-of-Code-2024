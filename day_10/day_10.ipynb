{
 "cells": [
  {
   "cell_type": "code",
   "execution_count": 1,
   "id": "774bd8b2",
   "metadata": {},
   "outputs": [],
   "source": [
    "from collections import deque"
   ]
  },
  {
   "cell_type": "code",
   "execution_count": 2,
   "id": "c38e1a29",
   "metadata": {},
   "outputs": [],
   "source": [
    "# with open(\"test_input.txt\") as f:\n",
    "with open(\"input.txt\") as f:\n",
    "    lines = f.readlines()\n",
    "lines = [line.strip() for line in lines]\n",
    "# lines"
   ]
  },
  {
   "cell_type": "code",
   "execution_count": 3,
   "id": "c956cd90",
   "metadata": {},
   "outputs": [],
   "source": [
    "grid = [list(line) for line in lines]\n",
    "rows = len(grid)\n",
    "cols = len(grid[0])\n",
    "for i in range(rows):\n",
    "    for j in range(cols):\n",
    "        grid[i][j] = int(grid[i][j]) if grid[i][j] != \".\" else -1\n",
    "# grid"
   ]
  },
  {
   "cell_type": "code",
   "execution_count": 4,
   "id": "f5696f71",
   "metadata": {},
   "outputs": [
    {
     "data": {
      "text/plain": [
       "(45, 45)"
      ]
     },
     "execution_count": 4,
     "metadata": {},
     "output_type": "execute_result"
    }
   ],
   "source": [
    "rows, cols"
   ]
  },
  {
   "cell_type": "code",
   "execution_count": 5,
   "id": "a7872ff1",
   "metadata": {},
   "outputs": [],
   "source": [
    "def get_trailheads(grid):\n",
    "    trailheads = set()\n",
    "    for i in range(rows):\n",
    "        for j in range(cols):\n",
    "            if grid[i][j] == 0:\n",
    "                trailheads.add((0, i, j))\n",
    "    return trailheads"
   ]
  },
  {
   "cell_type": "code",
   "execution_count": 6,
   "id": "7e8b593f",
   "metadata": {},
   "outputs": [],
   "source": [
    "trailheads = get_trailheads(grid)\n",
    "# trailheads"
   ]
  },
  {
   "cell_type": "code",
   "execution_count": 7,
   "id": "42cd9784",
   "metadata": {
    "scrolled": true
   },
   "outputs": [],
   "source": [
    "def get_trail_score(trailhead):\n",
    "    queue = deque()\n",
    "    queue.append(tuple(trailhead))\n",
    "\n",
    "    directions = [(0, 1), (1, 0), (0, -1), (-1, 0)]\n",
    "    peak = set()\n",
    "    while queue:\n",
    "        height, x, y = queue.popleft()\n",
    "        if height == 9:\n",
    "            peak.add((height, x, y))\n",
    "            continue\n",
    "        for direction in directions:\n",
    "            new_x, new_y = x + direction[0], y + direction[1]\n",
    "            if 0 <= new_x < rows and 0 <= new_y < cols:\n",
    "                new_height = grid[new_x][new_y]\n",
    "                if new_height == height + 1:\n",
    "                    queue.append((new_height, new_x, new_y))\n",
    "\n",
    "    return len(peak)"
   ]
  },
  {
   "cell_type": "code",
   "execution_count": 8,
   "id": "b3c3337d",
   "metadata": {},
   "outputs": [
    {
     "data": {
      "text/plain": [
       "574"
      ]
     },
     "execution_count": 8,
     "metadata": {},
     "output_type": "execute_result"
    }
   ],
   "source": [
    "total_score = 0\n",
    "for trailhead in trailheads:\n",
    "    total_score += get_trail_score(trailhead)\n",
    "total_score"
   ]
  },
  {
   "cell_type": "code",
   "execution_count": null,
   "id": "41d81a49",
   "metadata": {},
   "outputs": [],
   "source": []
  },
  {
   "cell_type": "markdown",
   "id": "a638afb1",
   "metadata": {},
   "source": [
    "# part 2"
   ]
  },
  {
   "cell_type": "code",
   "execution_count": 9,
   "id": "9bca870a",
   "metadata": {},
   "outputs": [],
   "source": [
    "def get_trail_score_2(trailhead):\n",
    "    queue = deque()\n",
    "    queue.append(tuple(trailhead))\n",
    "\n",
    "    directions = [(0, 1), (1, 0), (0, -1), (-1, 0)]\n",
    "    count = 0\n",
    "    #     peak = set()\n",
    "    while queue:\n",
    "        height, x, y = queue.popleft()\n",
    "        if height == 9:\n",
    "            #             peak.add((height, x, y))\n",
    "            count += 1\n",
    "            continue\n",
    "        for direction in directions:\n",
    "            new_x, new_y = x + direction[0], y + direction[1]\n",
    "            if 0 <= new_x < rows and 0 <= new_y < cols:\n",
    "                new_height = grid[new_x][new_y]\n",
    "                if new_height == height + 1:\n",
    "                    queue.append((new_height, new_x, new_y))\n",
    "\n",
    "    return count"
   ]
  },
  {
   "cell_type": "code",
   "execution_count": 10,
   "id": "52aa0c0b",
   "metadata": {},
   "outputs": [
    {
     "data": {
      "text/plain": [
       "1238"
      ]
     },
     "execution_count": 10,
     "metadata": {},
     "output_type": "execute_result"
    }
   ],
   "source": [
    "total_rating = 0\n",
    "for trailhead in trailheads:\n",
    "    total_rating += get_trail_score_2(trailhead)\n",
    "total_rating"
   ]
  },
  {
   "cell_type": "code",
   "execution_count": null,
   "id": "58690eb5",
   "metadata": {},
   "outputs": [],
   "source": []
  },
  {
   "cell_type": "code",
   "execution_count": 11,
   "id": "a4b95180",
   "metadata": {},
   "outputs": [],
   "source": [
    "def get_trail_score_and_rating(trailhead):\n",
    "    queue = deque()\n",
    "    queue.append(tuple(trailhead))\n",
    "\n",
    "    directions = [(0, 1), (1, 0), (0, -1), (-1, 0)]\n",
    "    count = 0\n",
    "    peak = set()\n",
    "    while queue:\n",
    "        height, x, y = queue.popleft()\n",
    "        if height == 9:\n",
    "            peak.add((height, x, y))\n",
    "            count += 1\n",
    "            continue\n",
    "        for direction in directions:\n",
    "            new_x, new_y = x + direction[0], y + direction[1]\n",
    "            if 0 <= new_x < rows and 0 <= new_y < cols:\n",
    "                new_height = grid[new_x][new_y]\n",
    "                if new_height == height + 1:\n",
    "                    queue.append((new_height, new_x, new_y))\n",
    "\n",
    "    return len(peak), count"
   ]
  },
  {
   "cell_type": "code",
   "execution_count": 12,
   "id": "fe57cc06",
   "metadata": {},
   "outputs": [
    {
     "name": "stdout",
     "output_type": "stream",
     "text": [
      "Part 1: 574\n",
      "Part 2: 1238\n"
     ]
    }
   ],
   "source": [
    "total_score = 0\n",
    "total_rating = 0\n",
    "for trailhead in trailheads:\n",
    "    score, rating = get_trail_score_and_rating(trailhead)\n",
    "    total_score += score\n",
    "    total_rating += rating\n",
    "\n",
    "print(\"Part 1:\", total_score)\n",
    "print(\"Part 2:\", total_rating)"
   ]
  }
 ],
 "metadata": {
  "kernelspec": {
   "display_name": "Python 3 (ipykernel)",
   "language": "python",
   "name": "python3"
  },
  "language_info": {
   "codemirror_mode": {
    "name": "ipython",
    "version": 3
   },
   "file_extension": ".py",
   "mimetype": "text/x-python",
   "name": "python",
   "nbconvert_exporter": "python",
   "pygments_lexer": "ipython3",
   "version": "3.10.7"
  }
 },
 "nbformat": 4,
 "nbformat_minor": 5
}
