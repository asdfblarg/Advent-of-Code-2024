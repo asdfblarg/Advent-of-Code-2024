{
 "cells": [
  {
   "cell_type": "code",
   "execution_count": 1,
   "id": "28a3fcb8",
   "metadata": {},
   "outputs": [],
   "source": [
    "import pandas as pd"
   ]
  },
  {
   "cell_type": "code",
   "execution_count": 2,
   "id": "67538ed4",
   "metadata": {},
   "outputs": [
    {
     "data": {
      "text/html": [
       "<div>\n",
       "<style scoped>\n",
       "    .dataframe tbody tr th:only-of-type {\n",
       "        vertical-align: middle;\n",
       "    }\n",
       "\n",
       "    .dataframe tbody tr th {\n",
       "        vertical-align: top;\n",
       "    }\n",
       "\n",
       "    .dataframe thead th {\n",
       "        text-align: right;\n",
       "    }\n",
       "</style>\n",
       "<table border=\"1\" class=\"dataframe\">\n",
       "  <thead>\n",
       "    <tr style=\"text-align: right;\">\n",
       "      <th></th>\n",
       "      <th>list_1</th>\n",
       "      <th>list_2</th>\n",
       "    </tr>\n",
       "  </thead>\n",
       "  <tbody>\n",
       "    <tr>\n",
       "      <th>0</th>\n",
       "      <td>40094</td>\n",
       "      <td>37480</td>\n",
       "    </tr>\n",
       "    <tr>\n",
       "      <th>1</th>\n",
       "      <td>52117</td>\n",
       "      <td>14510</td>\n",
       "    </tr>\n",
       "    <tr>\n",
       "      <th>2</th>\n",
       "      <td>92290</td>\n",
       "      <td>82570</td>\n",
       "    </tr>\n",
       "    <tr>\n",
       "      <th>3</th>\n",
       "      <td>41563</td>\n",
       "      <td>59882</td>\n",
       "    </tr>\n",
       "    <tr>\n",
       "      <th>4</th>\n",
       "      <td>56597</td>\n",
       "      <td>98604</td>\n",
       "    </tr>\n",
       "    <tr>\n",
       "      <th>...</th>\n",
       "      <td>...</td>\n",
       "      <td>...</td>\n",
       "    </tr>\n",
       "    <tr>\n",
       "      <th>995</th>\n",
       "      <td>59322</td>\n",
       "      <td>66508</td>\n",
       "    </tr>\n",
       "    <tr>\n",
       "      <th>996</th>\n",
       "      <td>98442</td>\n",
       "      <td>10520</td>\n",
       "    </tr>\n",
       "    <tr>\n",
       "      <th>997</th>\n",
       "      <td>15717</td>\n",
       "      <td>73514</td>\n",
       "    </tr>\n",
       "    <tr>\n",
       "      <th>998</th>\n",
       "      <td>20342</td>\n",
       "      <td>72228</td>\n",
       "    </tr>\n",
       "    <tr>\n",
       "      <th>999</th>\n",
       "      <td>13498</td>\n",
       "      <td>75812</td>\n",
       "    </tr>\n",
       "  </tbody>\n",
       "</table>\n",
       "<p>1000 rows × 2 columns</p>\n",
       "</div>"
      ],
      "text/plain": [
       "     list_1  list_2\n",
       "0     40094   37480\n",
       "1     52117   14510\n",
       "2     92290   82570\n",
       "3     41563   59882\n",
       "4     56597   98604\n",
       "..      ...     ...\n",
       "995   59322   66508\n",
       "996   98442   10520\n",
       "997   15717   73514\n",
       "998   20342   72228\n",
       "999   13498   75812\n",
       "\n",
       "[1000 rows x 2 columns]"
      ]
     },
     "execution_count": 2,
     "metadata": {},
     "output_type": "execute_result"
    }
   ],
   "source": [
    "input_df = pd.read_csv(\"input.txt\", sep=\"\\s+\", names=[\"list_1\", \"list_2\"])\n",
    "input_df"
   ]
  },
  {
   "cell_type": "code",
   "execution_count": 3,
   "id": "c59cd126",
   "metadata": {},
   "outputs": [],
   "source": [
    "list_1 = sorted(input_df[\"list_1\"].to_list())\n",
    "list_2 = sorted(input_df[\"list_2\"].to_list())"
   ]
  },
  {
   "cell_type": "code",
   "execution_count": 4,
   "id": "fcd7cd4e",
   "metadata": {},
   "outputs": [],
   "source": [
    "diff = []\n",
    "for i in range(len(list_1)):\n",
    "    diff.append(abs(list_1[i] - list_2[i]))\n",
    "    \n",
    "# diff"
   ]
  },
  {
   "cell_type": "code",
   "execution_count": 5,
   "id": "9ceea349",
   "metadata": {},
   "outputs": [
    {
     "data": {
      "text/plain": [
       "2430334"
      ]
     },
     "execution_count": 5,
     "metadata": {},
     "output_type": "execute_result"
    }
   ],
   "source": [
    "sum(diff)"
   ]
  },
  {
   "cell_type": "code",
   "execution_count": null,
   "id": "1b437eb2",
   "metadata": {},
   "outputs": [],
   "source": []
  },
  {
   "cell_type": "markdown",
   "id": "0360ae5c",
   "metadata": {},
   "source": [
    "# part 2"
   ]
  },
  {
   "cell_type": "code",
   "execution_count": 6,
   "id": "e42d0ce6",
   "metadata": {},
   "outputs": [],
   "source": [
    "from collections import Counter"
   ]
  },
  {
   "cell_type": "code",
   "execution_count": 7,
   "id": "0ed20b20",
   "metadata": {},
   "outputs": [],
   "source": [
    "# list_1 = [3,4,2,1,3,3]\n",
    "# list_2 = [4,3,5,3,9,3]"
   ]
  },
  {
   "cell_type": "code",
   "execution_count": 8,
   "id": "4c386230",
   "metadata": {},
   "outputs": [],
   "source": [
    "list_1_dict = Counter(list_1)\n",
    "list_2_dict = Counter(list_2)"
   ]
  },
  {
   "cell_type": "code",
   "execution_count": 9,
   "id": "a05115bf",
   "metadata": {},
   "outputs": [],
   "source": [
    "similarities = []\n",
    "for i in range(len(list_1)):\n",
    "    list_id = list_1[i]\n",
    "    similarities.append(list_id * list_2_dict[list_id])\n",
    "\n",
    "# similarities"
   ]
  },
  {
   "cell_type": "code",
   "execution_count": 10,
   "id": "4b965dce",
   "metadata": {},
   "outputs": [
    {
     "data": {
      "text/plain": [
       "28786472"
      ]
     },
     "execution_count": 10,
     "metadata": {},
     "output_type": "execute_result"
    }
   ],
   "source": [
    "sum(similarities)"
   ]
  },
  {
   "cell_type": "code",
   "execution_count": null,
   "id": "07fb072b",
   "metadata": {},
   "outputs": [],
   "source": []
  }
 ],
 "metadata": {
  "kernelspec": {
   "display_name": "Python 3 (ipykernel)",
   "language": "python",
   "name": "python3"
  },
  "language_info": {
   "codemirror_mode": {
    "name": "ipython",
    "version": 3
   },
   "file_extension": ".py",
   "mimetype": "text/x-python",
   "name": "python",
   "nbconvert_exporter": "python",
   "pygments_lexer": "ipython3",
   "version": "3.10.7"
  }
 },
 "nbformat": 4,
 "nbformat_minor": 5
}
