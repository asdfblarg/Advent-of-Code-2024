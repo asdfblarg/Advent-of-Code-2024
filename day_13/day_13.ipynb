{
 "cells": [
  {
   "cell_type": "code",
   "execution_count": 1,
   "id": "e12f492a",
   "metadata": {},
   "outputs": [],
   "source": [
    "# with open(\"test_input.txt\") as f:\n",
    "with open(\"input.txt\") as f:\n",
    "    lines = f.read().split(\"\\n\\n\")\n",
    "lines = [line.split(\"\\n\") for line in lines]\n",
    "# lines"
   ]
  },
  {
   "cell_type": "code",
   "execution_count": 2,
   "id": "7aaa7821",
   "metadata": {},
   "outputs": [],
   "source": [
    "machines = []\n",
    "for line in lines:\n",
    "    button_a = line[0]\n",
    "    button_a = button_a.split(\": \")[-1].split(\", \")\n",
    "    button_a = [int(pos.split(\"+\")[-1]) for pos in button_a]\n",
    "\n",
    "    button_b = line[1]\n",
    "    button_b = button_b.split(\": \")[-1].split(\", \")\n",
    "    button_b = [int(pos.split(\"+\")[-1]) for pos in button_b]\n",
    "\n",
    "    prize = line[2]\n",
    "    prize = prize.split(\": \")[-1].split(\", \")\n",
    "    prize = [int(pos.split(\"=\")[-1]) for pos in prize]\n",
    "    machines.append((button_a, button_b, prize))\n",
    "# machines"
   ]
  },
  {
   "cell_type": "code",
   "execution_count": 3,
   "id": "93a50506",
   "metadata": {},
   "outputs": [
    {
     "name": "stdout",
     "output_type": "stream",
     "text": [
      "21.000000000000004 58.0\n",
      "(0, 0)\n"
     ]
    }
   ],
   "source": [
    "def calc_machine_coins(machine):\n",
    "    a = machine[0]\n",
    "    b = machine[1]\n",
    "    prize = machine[2]\n",
    "\n",
    "    # this has a floating point division bug\n",
    "    b_rounds = (((a[0] * prize[1]) / a[1]) - prize[0]) / ((a[0] * b[1]) / a[1] - b[0])\n",
    "    # b_rounds = ((a[0]*prize[1]) - (a[1]*prize[0])) / ((a[0] * b[1]) - (a[1] * b[0]))\n",
    "    a_rounds = (prize[0] - (b[0] * b_rounds)) / a[0]\n",
    "    print(b_rounds, a_rounds)\n",
    "    if a_rounds == int(a_rounds) and b_rounds == int(b_rounds):\n",
    "        a_rounds = int(a_rounds)\n",
    "        b_rounds = int(b_rounds)\n",
    "        return a_rounds, b_rounds\n",
    "\n",
    "    return 0, 0\n",
    "\n",
    "\n",
    "# print(calc_machine_coins(machines[0]))\n",
    "print(calc_machine_coins(machines[12]))"
   ]
  },
  {
   "cell_type": "code",
   "execution_count": 4,
   "id": "61084701",
   "metadata": {},
   "outputs": [
    {
     "name": "stdout",
     "output_type": "stream",
     "text": [
      "(58, 21)\n"
     ]
    }
   ],
   "source": [
    "def calc_machine_coins(machine):\n",
    "    a = machine[0]\n",
    "    b = machine[1]\n",
    "    prize = machine[2]\n",
    "\n",
    "    # b_rounds = (((a[0]*prize[1]) / a[1]) - prize[0]) / ((a[0] * b[1]) / a[1] - b[0])\n",
    "    b_rounds = ((a[0] * prize[1]) - (a[1] * prize[0])) / ((a[0] * b[1]) - (a[1] * b[0]))\n",
    "    a_rounds = (prize[0] - (b[0] * b_rounds)) / a[0]\n",
    "    #     print(b_rounds, a_rounds)\n",
    "    if a_rounds == int(a_rounds) and b_rounds == int(b_rounds):\n",
    "        a_rounds = int(a_rounds)\n",
    "        b_rounds = int(b_rounds)\n",
    "        return a_rounds, b_rounds\n",
    "\n",
    "    return 0, 0\n",
    "\n",
    "\n",
    "# print(calc_machine_coins(machines[0]))\n",
    "print(calc_machine_coins(machines[12]))"
   ]
  },
  {
   "cell_type": "code",
   "execution_count": 5,
   "id": "66f0f134",
   "metadata": {},
   "outputs": [
    {
     "data": {
      "text/plain": [
       "40.0"
      ]
     },
     "execution_count": 5,
     "metadata": {},
     "output_type": "execute_result"
    }
   ],
   "source": [
    "((94 * 5400) - (34 * 8400)) / ((94 * 67) - (34 * 22))"
   ]
  },
  {
   "cell_type": "code",
   "execution_count": 6,
   "id": "c734ae1c",
   "metadata": {
    "scrolled": true
   },
   "outputs": [
    {
     "data": {
      "text/plain": [
       "26005"
      ]
     },
     "execution_count": 6,
     "metadata": {},
     "output_type": "execute_result"
    }
   ],
   "source": [
    "total_coins = 0\n",
    "count = 1\n",
    "for machine in machines:\n",
    "    a_rounds, b_rounds = calc_machine_coins(machine)\n",
    "    total_coins += 3 * a_rounds + b_rounds\n",
    "    count += 1\n",
    "total_coins"
   ]
  },
  {
   "cell_type": "code",
   "execution_count": null,
   "id": "3a7ddbfa",
   "metadata": {},
   "outputs": [],
   "source": []
  },
  {
   "cell_type": "markdown",
   "id": "ca10b02b",
   "metadata": {},
   "source": [
    "# Part 2"
   ]
  },
  {
   "cell_type": "code",
   "execution_count": 7,
   "id": "2f87e43a",
   "metadata": {},
   "outputs": [],
   "source": [
    "def calc_machine_coins_2(machine):\n",
    "    a = machine[0]\n",
    "    b = machine[1]\n",
    "    prize = machine[2]\n",
    "    prize = 10000000000000 + prize[0], 10000000000000 + prize[1]\n",
    "\n",
    "    b_rounds = ((a[0] * prize[1]) - (a[1] * prize[0])) / ((a[0] * b[1]) - (a[1] * b[0]))\n",
    "    a_rounds = (prize[0] - (b[0] * b_rounds)) / a[0]\n",
    "    if a_rounds == int(a_rounds) and b_rounds == int(b_rounds):\n",
    "        a_rounds = int(a_rounds)\n",
    "        b_rounds = int(b_rounds)\n",
    "        return a_rounds, b_rounds\n",
    "\n",
    "    return 0, 0\n",
    "\n",
    "\n",
    "# print(calc_machine_coins_2(machines[0]))\n",
    "# print(calc_machine_coins_2(machines[1]))\n",
    "# print(calc_machine_coins_2(machines[12]))"
   ]
  },
  {
   "cell_type": "code",
   "execution_count": 8,
   "id": "eef71c14",
   "metadata": {},
   "outputs": [
    {
     "data": {
      "text/plain": [
       "105620095782547"
      ]
     },
     "execution_count": 8,
     "metadata": {},
     "output_type": "execute_result"
    }
   ],
   "source": [
    "total_coins = 0\n",
    "count = 1\n",
    "for machine in machines:\n",
    "    a_rounds, b_rounds = calc_machine_coins_2(machine)\n",
    "    total_coins += 3 * a_rounds + b_rounds\n",
    "    count += 1\n",
    "total_coins"
   ]
  },
  {
   "cell_type": "code",
   "execution_count": null,
   "id": "350b538c",
   "metadata": {},
   "outputs": [],
   "source": []
  }
 ],
 "metadata": {
  "kernelspec": {
   "display_name": "Python 3 (ipykernel)",
   "language": "python",
   "name": "python3"
  },
  "language_info": {
   "codemirror_mode": {
    "name": "ipython",
    "version": 3
   },
   "file_extension": ".py",
   "mimetype": "text/x-python",
   "name": "python",
   "nbconvert_exporter": "python",
   "pygments_lexer": "ipython3",
   "version": "3.10.7"
  }
 },
 "nbformat": 4,
 "nbformat_minor": 5
}
