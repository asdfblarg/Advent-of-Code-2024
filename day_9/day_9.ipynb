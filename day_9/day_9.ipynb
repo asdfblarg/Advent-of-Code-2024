{
 "cells": [
  {
   "cell_type": "code",
   "execution_count": null,
   "id": "ae3a326e",
   "metadata": {},
   "outputs": [],
   "source": []
  },
  {
   "cell_type": "code",
   "execution_count": 1,
   "id": "5a75cf36",
   "metadata": {},
   "outputs": [
    {
     "data": {
      "text/plain": [
       "['2333133121414131402']"
      ]
     },
     "execution_count": 1,
     "metadata": {},
     "output_type": "execute_result"
    }
   ],
   "source": [
    "with open(\"test_input.txt\") as f:\n",
    "# with open(\"input.txt\") as f:\n",
    "    lines = f.readlines()\n",
    "lines = [line.strip() for line in lines]\n",
    "lines"
   ]
  },
  {
   "cell_type": "code",
   "execution_count": 2,
   "id": "02fe04fa",
   "metadata": {},
   "outputs": [],
   "source": [
    "disk_map = lines[0]"
   ]
  },
  {
   "cell_type": "code",
   "execution_count": 3,
   "id": "bc8446cd",
   "metadata": {
    "scrolled": true
   },
   "outputs": [
    {
     "data": {
      "text/plain": [
       "'00...111...2...333.44.5555.6666.777.888899'"
      ]
     },
     "execution_count": 3,
     "metadata": {},
     "output_type": "execute_result"
    }
   ],
   "source": [
    "def split_into_ids(disk_map):\n",
    "    id_space_map = []\n",
    "    block_id = 0\n",
    "    for i in range(len(disk_map)):\n",
    "        # odd digits are files\n",
    "        num_bytes = int(disk_map[i])\n",
    "        if i % 2 == 0:\n",
    "            for j in range(num_bytes):\n",
    "                id_space_map.append(str(block_id))\n",
    "            block_id += 1\n",
    "        # even digits are free blocks\n",
    "        else:\n",
    "            for j in range(num_bytes):\n",
    "                id_space_map.append(\".\")\n",
    "\n",
    "    return id_space_map\n",
    "\n",
    "\"\".join(split_into_ids(disk_map))"
   ]
  },
  {
   "cell_type": "code",
   "execution_count": 4,
   "id": "49d38696",
   "metadata": {
    "scrolled": true
   },
   "outputs": [],
   "source": [
    "# disk_map_expand = split_into_ids(disk_map)"
   ]
  },
  {
   "cell_type": "code",
   "execution_count": 5,
   "id": "c4ba5adf",
   "metadata": {},
   "outputs": [
    {
     "data": {
      "text/plain": [
       "'0099811188827773336446555566..............'"
      ]
     },
     "execution_count": 5,
     "metadata": {},
     "output_type": "execute_result"
    }
   ],
   "source": [
    "disk_map_expand = split_into_ids(disk_map)\n",
    "left = 0\n",
    "right = len(disk_map_expand) - 1\n",
    "\n",
    "while left < right:\n",
    "    while disk_map_expand[left] != \".\":\n",
    "        left += 1\n",
    "    while disk_map_expand[right] == \".\":\n",
    "        right -= 1\n",
    "#     print(disk_map_expand[left], disk_map_expand[right])\n",
    "    if left < right:\n",
    "        disk_map_expand[left], disk_map_expand[right] = disk_map_expand[right], disk_map_expand[left]\n",
    "#     print(\"\".join(disk_map_expand))\n",
    "    \n",
    "\"\".join(disk_map_expand)"
   ]
  },
  {
   "cell_type": "code",
   "execution_count": 6,
   "id": "fd773719",
   "metadata": {},
   "outputs": [
    {
     "data": {
      "text/plain": [
       "1928"
      ]
     },
     "execution_count": 6,
     "metadata": {},
     "output_type": "execute_result"
    }
   ],
   "source": [
    "checksum = 0\n",
    "for i in range(len(disk_map_expand)):\n",
    "    if disk_map_expand[i] == \".\":\n",
    "        break\n",
    "    checksum += i * int(disk_map_expand[i])\n",
    "checksum"
   ]
  },
  {
   "cell_type": "code",
   "execution_count": null,
   "id": "3de11d7e",
   "metadata": {},
   "outputs": [],
   "source": []
  },
  {
   "cell_type": "markdown",
   "id": "988d66a0",
   "metadata": {},
   "source": [
    "# part 2"
   ]
  },
  {
   "cell_type": "code",
   "execution_count": 8,
   "id": "b3e5ab92",
   "metadata": {},
   "outputs": [
    {
     "data": {
      "text/plain": [
       "'00...111...2...333.44.5555.6666.777.888899'"
      ]
     },
     "execution_count": 8,
     "metadata": {},
     "output_type": "execute_result"
    }
   ],
   "source": [
    "disk_map_expand = split_into_ids(disk_map)\n",
    "\"\".join(disk_map_expand)"
   ]
  },
  {
   "cell_type": "code",
   "execution_count": null,
   "id": "4e46325d",
   "metadata": {},
   "outputs": [],
   "source": []
  }
 ],
 "metadata": {
  "kernelspec": {
   "display_name": "Python 3 (ipykernel)",
   "language": "python",
   "name": "python3"
  },
  "language_info": {
   "codemirror_mode": {
    "name": "ipython",
    "version": 3
   },
   "file_extension": ".py",
   "mimetype": "text/x-python",
   "name": "python",
   "nbconvert_exporter": "python",
   "pygments_lexer": "ipython3",
   "version": "3.10.7"
  }
 },
 "nbformat": 4,
 "nbformat_minor": 5
}
